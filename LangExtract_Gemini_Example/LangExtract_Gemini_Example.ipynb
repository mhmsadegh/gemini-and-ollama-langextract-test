{
  "nbformat": 4,
  "nbformat_minor": 0,
  "metadata": {
    "colab": {
      "provenance": []
    },
    "kernelspec": {
      "name": "python3",
      "display_name": "Python 3"
    },
    "language_info": {
      "name": "python"
    }
  },
  "cells": [
    {
      "cell_type": "code",
      "execution_count": 33,
      "metadata": {
        "colab": {
          "base_uri": "https://localhost:8080/"
        },
        "collapsed": true,
        "id": "imjqGfQTnJ45",
        "outputId": "947ae927-9950-4a3d-83f2-82dfad5b699c"
      },
      "outputs": [
        {
          "output_type": "stream",
          "name": "stdout",
          "text": [
            "Requirement already satisfied: langextract in /usr/local/lib/python3.11/dist-packages (1.0.5)\n",
            "Requirement already satisfied: absl-py>=1.0.0 in /usr/local/lib/python3.11/dist-packages (from langextract) (1.4.0)\n",
            "Requirement already satisfied: aiohttp>=3.8.0 in /usr/local/lib/python3.11/dist-packages (from langextract) (3.12.15)\n",
            "Requirement already satisfied: async_timeout>=4.0.0 in /usr/local/lib/python3.11/dist-packages (from langextract) (5.0.1)\n",
            "Requirement already satisfied: exceptiongroup>=1.1.0 in /usr/local/lib/python3.11/dist-packages (from langextract) (1.3.0)\n",
            "Requirement already satisfied: google-genai>=0.1.0 in /usr/local/lib/python3.11/dist-packages (from langextract) (1.28.0)\n",
            "Requirement already satisfied: ml-collections>=0.1.0 in /usr/local/lib/python3.11/dist-packages (from langextract) (1.1.0)\n",
            "Requirement already satisfied: more-itertools>=8.0.0 in /usr/local/lib/python3.11/dist-packages (from langextract) (10.7.0)\n",
            "Requirement already satisfied: numpy>=1.20.0 in /usr/local/lib/python3.11/dist-packages (from langextract) (2.0.2)\n",
            "Requirement already satisfied: openai>=1.50.0 in /usr/local/lib/python3.11/dist-packages (from langextract) (1.99.1)\n",
            "Requirement already satisfied: pandas>=1.3.0 in /usr/local/lib/python3.11/dist-packages (from langextract) (2.2.2)\n",
            "Requirement already satisfied: pydantic>=1.8.0 in /usr/local/lib/python3.11/dist-packages (from langextract) (2.11.7)\n",
            "Requirement already satisfied: python-dotenv>=0.19.0 in /usr/local/lib/python3.11/dist-packages (from langextract) (1.1.1)\n",
            "Requirement already satisfied: PyYAML>=6.0 in /usr/local/lib/python3.11/dist-packages (from langextract) (6.0.2)\n",
            "Requirement already satisfied: requests>=2.25.0 in /usr/local/lib/python3.11/dist-packages (from langextract) (2.32.3)\n",
            "Requirement already satisfied: tqdm>=4.64.0 in /usr/local/lib/python3.11/dist-packages (from langextract) (4.67.1)\n",
            "Requirement already satisfied: typing-extensions>=4.0.0 in /usr/local/lib/python3.11/dist-packages (from langextract) (4.14.1)\n",
            "Requirement already satisfied: aiohappyeyeballs>=2.5.0 in /usr/local/lib/python3.11/dist-packages (from aiohttp>=3.8.0->langextract) (2.6.1)\n",
            "Requirement already satisfied: aiosignal>=1.4.0 in /usr/local/lib/python3.11/dist-packages (from aiohttp>=3.8.0->langextract) (1.4.0)\n",
            "Requirement already satisfied: attrs>=17.3.0 in /usr/local/lib/python3.11/dist-packages (from aiohttp>=3.8.0->langextract) (25.3.0)\n",
            "Requirement already satisfied: frozenlist>=1.1.1 in /usr/local/lib/python3.11/dist-packages (from aiohttp>=3.8.0->langextract) (1.7.0)\n",
            "Requirement already satisfied: multidict<7.0,>=4.5 in /usr/local/lib/python3.11/dist-packages (from aiohttp>=3.8.0->langextract) (6.6.3)\n",
            "Requirement already satisfied: propcache>=0.2.0 in /usr/local/lib/python3.11/dist-packages (from aiohttp>=3.8.0->langextract) (0.3.2)\n",
            "Requirement already satisfied: yarl<2.0,>=1.17.0 in /usr/local/lib/python3.11/dist-packages (from aiohttp>=3.8.0->langextract) (1.20.1)\n",
            "Requirement already satisfied: anyio<5.0.0,>=4.8.0 in /usr/local/lib/python3.11/dist-packages (from google-genai>=0.1.0->langextract) (4.10.0)\n",
            "Requirement already satisfied: google-auth<3.0.0,>=2.14.1 in /usr/local/lib/python3.11/dist-packages (from google-genai>=0.1.0->langextract) (2.38.0)\n",
            "Requirement already satisfied: httpx<1.0.0,>=0.28.1 in /usr/local/lib/python3.11/dist-packages (from google-genai>=0.1.0->langextract) (0.28.1)\n",
            "Requirement already satisfied: tenacity<9.0.0,>=8.2.3 in /usr/local/lib/python3.11/dist-packages (from google-genai>=0.1.0->langextract) (8.5.0)\n",
            "Requirement already satisfied: websockets<15.1.0,>=13.0.0 in /usr/local/lib/python3.11/dist-packages (from google-genai>=0.1.0->langextract) (15.0.1)\n",
            "Requirement already satisfied: distro<2,>=1.7.0 in /usr/local/lib/python3.11/dist-packages (from openai>=1.50.0->langextract) (1.9.0)\n",
            "Requirement already satisfied: jiter<1,>=0.4.0 in /usr/local/lib/python3.11/dist-packages (from openai>=1.50.0->langextract) (0.10.0)\n",
            "Requirement already satisfied: sniffio in /usr/local/lib/python3.11/dist-packages (from openai>=1.50.0->langextract) (1.3.1)\n",
            "Requirement already satisfied: python-dateutil>=2.8.2 in /usr/local/lib/python3.11/dist-packages (from pandas>=1.3.0->langextract) (2.9.0.post0)\n",
            "Requirement already satisfied: pytz>=2020.1 in /usr/local/lib/python3.11/dist-packages (from pandas>=1.3.0->langextract) (2025.2)\n",
            "Requirement already satisfied: tzdata>=2022.7 in /usr/local/lib/python3.11/dist-packages (from pandas>=1.3.0->langextract) (2025.2)\n",
            "Requirement already satisfied: annotated-types>=0.6.0 in /usr/local/lib/python3.11/dist-packages (from pydantic>=1.8.0->langextract) (0.7.0)\n",
            "Requirement already satisfied: pydantic-core==2.33.2 in /usr/local/lib/python3.11/dist-packages (from pydantic>=1.8.0->langextract) (2.33.2)\n",
            "Requirement already satisfied: typing-inspection>=0.4.0 in /usr/local/lib/python3.11/dist-packages (from pydantic>=1.8.0->langextract) (0.4.1)\n",
            "Requirement already satisfied: charset-normalizer<4,>=2 in /usr/local/lib/python3.11/dist-packages (from requests>=2.25.0->langextract) (3.4.2)\n",
            "Requirement already satisfied: idna<4,>=2.5 in /usr/local/lib/python3.11/dist-packages (from requests>=2.25.0->langextract) (3.10)\n",
            "Requirement already satisfied: urllib3<3,>=1.21.1 in /usr/local/lib/python3.11/dist-packages (from requests>=2.25.0->langextract) (2.5.0)\n",
            "Requirement already satisfied: certifi>=2017.4.17 in /usr/local/lib/python3.11/dist-packages (from requests>=2.25.0->langextract) (2025.8.3)\n",
            "Requirement already satisfied: cachetools<6.0,>=2.0.0 in /usr/local/lib/python3.11/dist-packages (from google-auth<3.0.0,>=2.14.1->google-genai>=0.1.0->langextract) (5.5.2)\n",
            "Requirement already satisfied: pyasn1-modules>=0.2.1 in /usr/local/lib/python3.11/dist-packages (from google-auth<3.0.0,>=2.14.1->google-genai>=0.1.0->langextract) (0.4.2)\n",
            "Requirement already satisfied: rsa<5,>=3.1.4 in /usr/local/lib/python3.11/dist-packages (from google-auth<3.0.0,>=2.14.1->google-genai>=0.1.0->langextract) (4.9.1)\n",
            "Requirement already satisfied: httpcore==1.* in /usr/local/lib/python3.11/dist-packages (from httpx<1.0.0,>=0.28.1->google-genai>=0.1.0->langextract) (1.0.9)\n",
            "Requirement already satisfied: h11>=0.16 in /usr/local/lib/python3.11/dist-packages (from httpcore==1.*->httpx<1.0.0,>=0.28.1->google-genai>=0.1.0->langextract) (0.16.0)\n",
            "Requirement already satisfied: six>=1.5 in /usr/local/lib/python3.11/dist-packages (from python-dateutil>=2.8.2->pandas>=1.3.0->langextract) (1.17.0)\n",
            "Requirement already satisfied: pyasn1<0.7.0,>=0.6.1 in /usr/local/lib/python3.11/dist-packages (from pyasn1-modules>=0.2.1->google-auth<3.0.0,>=2.14.1->google-genai>=0.1.0->langextract) (0.6.1)\n",
            "Requirement already satisfied: python-dotenv in /usr/local/lib/python3.11/dist-packages (1.1.1)\n"
          ]
        }
      ],
      "source": [
        "# Core dependencies\n",
        "!pip install langextract\n",
        "!pip install python-dotenv\n"
      ]
    },
    {
      "cell_type": "code",
      "source": [
        "import textwrap\n",
        "import langextract as lx\n",
        "\n",
        "from IPython.display import display, HTML, Javascript\n",
        "\n",
        "\n",
        "import os\n",
        "from dotenv import load_dotenv"
      ],
      "metadata": {
        "id": "tj3ZFFIBFSdA"
      },
      "execution_count": 35,
      "outputs": []
    },
    {
      "cell_type": "code",
      "source": [
        "load_dotenv()\n",
        "\n",
        "api_key = os.getenv(\"LANGEXTRACT_API_KEY\")"
      ],
      "metadata": {
        "id": "Ap17QPOEQUJx"
      },
      "execution_count": 36,
      "outputs": []
    },
    {
      "cell_type": "code",
      "source": [
        "import textwrap\n",
        "import langextract as lx\n",
        "\n",
        "# 1. Define prompt and extraction rules\n",
        "prompt = textwrap.dedent(\"\"\"\\\n",
        "Extract medical entities from the text, including:\n",
        "\n",
        "- Patient names with roles\n",
        "- Diseases (specify if chronic or acute)\n",
        "- Medications, with dosage, frequency, duration\n",
        "- Treatment relationships (which medication treats which disease)\n",
        "\n",
        "Use the exact original text fragments for extraction.\n",
        "Do not paraphrase or summarize.\n",
        "Return a structured list of entities and their attributes in the order they appear.\n",
        "If multiple medications or diseases are mentioned, list all with their details.\n",
        "\"\"\")\n",
        "\n",
        "# 2. Few-shot examples with medical data\n",
        "examples = [\n",
        "    lx.data.ExampleData(\n",
        "        text=\"بیمار آقای رضا محمدی با سابقه فشار خون بالا و دیابت نوع ۲، به مدت یک ماه داروی آتنولول 50 میلی‌گرم روزانه و انسولین 20 واحد هر شب مصرف کرده است.\",\n",
        "        extractions=[\n",
        "            lx.data.Extraction(\n",
        "                extraction_class=\"Patient\",\n",
        "                extraction_text=\"آقای رضا محمدی\",\n",
        "                attributes={\"role\": \"بیمار\"}\n",
        "            ),\n",
        "            lx.data.Extraction(\n",
        "                extraction_class=\"Disease\",\n",
        "                extraction_text=\"فشار خون بالا\",\n",
        "                attributes={\"type\": \"مزمن\"}\n",
        "            ),\n",
        "            lx.data.Extraction(\n",
        "                extraction_class=\"Disease\",\n",
        "                extraction_text=\"دیابت نوع ۲\",\n",
        "                attributes={\"type\": \"مزمن\"}\n",
        "            ),\n",
        "            lx.data.Extraction(\n",
        "                extraction_class=\"Medication\",\n",
        "                extraction_text=\"آتنولول\",\n",
        "                attributes={\"dose\": \"50 میلی‌گرم\", \"duration\": \"یک ماه\", \"frequency\": \"روزانه\"}\n",
        "            ),\n",
        "            lx.data.Extraction(\n",
        "                extraction_class=\"Medication\",\n",
        "                extraction_text=\"انسولین\",\n",
        "                attributes={\"dose\": \"20 واحد\", \"frequency\": \"هر شب\"}\n",
        "            ),\n",
        "        ]\n",
        "    )\n",
        "]\n",
        "\n",
        "# 3. Input text (longer medical note)\n",
        "input_text = \"\"\"\n",
        "بیمار آقای علی رضایی، ۵۵ ساله، با سابقه بیماری قلبی و فشار خون بالا به کلینیک مراجعه کرده است.\n",
        "وی به مدت ۶ ماه داروی آملودیپین 10 میلی‌گرم روزانه و آتورواستاتین 20 میلی‌گرم شبانه مصرف می‌کند.\n",
        "همچنین، اخیراً دچار علائم دیابت نوع ۲ شده و انسولین 15 واحد صبح‌ها و 20 واحد شب‌ها تجویز شده است.\n",
        "\"\"\"\n",
        "\n",
        "# 4. Run extraction\n",
        "result = lx.extract(\n",
        "    text_or_documents=input_text,\n",
        "    prompt_description=prompt,\n",
        "    examples=examples,\n",
        "    model_id=\"gemini-2.5-pro\",\n",
        "    api_key=api_key\n",
        ")\n",
        "\n",
        "print(result)"
      ],
      "metadata": {
        "colab": {
          "base_uri": "https://localhost:8080/"
        },
        "id": "6Ny1RoBCv-Op",
        "outputId": "37c3d432-8e8a-407d-8f2e-eacca604d814"
      },
      "execution_count": 48,
      "outputs": [
        {
          "output_type": "stream",
          "name": "stderr",
          "text": [
            "\u001b[94m\u001b[1mLangExtract\u001b[0m: model=\u001b[92mgemini-2.5-pro\u001b[0m, current=\u001b[92m289\u001b[0m chars, processed=\u001b[92m289\u001b[0m chars:  [00:25]"
          ]
        },
        {
          "output_type": "stream",
          "name": "stdout",
          "text": [
            "\u001b[92m✓\u001b[0m Extraction processing complete\n",
            "\u001b[92m✓\u001b[0m Extracted \u001b[1m8\u001b[0m entities (\u001b[1m3\u001b[0m unique types)\n",
            "  \u001b[96m•\u001b[0m Time: \u001b[1m25.92s\u001b[0m\n",
            "  \u001b[96m•\u001b[0m Speed: \u001b[1m11\u001b[0m chars/sec\n",
            "  \u001b[96m•\u001b[0m Chunks: \u001b[1m1\u001b[0m\n",
            "AnnotatedDocument(extractions=[Extraction(extraction_class='Patient', extraction_text='آقای علی رضایی', char_interval=CharInterval(start_pos=7, end_pos=15), alignment_status=<AlignmentStatus.MATCH_LESSER: 'match_lesser'>, extraction_index=1, group_index=0, description=None, attributes={'role': 'بیمار'}), Extraction(extraction_class='Disease', extraction_text='بیماری قلبی', char_interval=CharInterval(start_pos=41, end_pos=52), alignment_status=<AlignmentStatus.MATCH_EXACT: 'match_exact'>, extraction_index=2, group_index=1, description=None, attributes={'type': 'مزمن'}), Extraction(extraction_class='Disease', extraction_text='فشار خون بالا', char_interval=CharInterval(start_pos=55, end_pos=68), alignment_status=<AlignmentStatus.MATCH_EXACT: 'match_exact'>, extraction_index=3, group_index=2, description=None, attributes={'type': 'مزمن'}), Extraction(extraction_class='Medication', extraction_text='آملودیپین', char_interval=CharInterval(start_pos=118, end_pos=127), alignment_status=<AlignmentStatus.MATCH_EXACT: 'match_exact'>, extraction_index=4, group_index=3, description=None, attributes={'dose': '10 میلی\\u200cگرم', 'duration': 'به مدت ۶ ماه', 'frequency': 'روزانه'}), Extraction(extraction_class='Medication', extraction_text='آتورواستاتین', char_interval=CharInterval(start_pos=149, end_pos=161), alignment_status=<AlignmentStatus.MATCH_EXACT: 'match_exact'>, extraction_index=5, group_index=4, description=None, attributes={'dose': '20 میلی\\u200cگرم', 'duration': 'به مدت ۶ ماه', 'frequency': 'شبانه'}), Extraction(extraction_class='Disease', extraction_text='دیابت نوع ۲', char_interval=CharInterval(start_pos=219, end_pos=230), alignment_status=<AlignmentStatus.MATCH_EXACT: 'match_exact'>, extraction_index=6, group_index=5, description=None, attributes={'type': 'مزمن'}), Extraction(extraction_class='Medication', extraction_text='انسولین', char_interval=CharInterval(start_pos=237, end_pos=244), alignment_status=<AlignmentStatus.MATCH_EXACT: 'match_exact'>, extraction_index=7, group_index=6, description=None, attributes={'dose': '15 واحد', 'frequency': 'صبح\\u200cها'}), Extraction(extraction_class='Medication', extraction_text='انسولین', char_interval=CharInterval(start_pos=237, end_pos=244), alignment_status=<AlignmentStatus.MATCH_FUZZY: 'match_fuzzy'>, extraction_index=8, group_index=7, description=None, attributes={'dose': '20 واحد', 'frequency': 'شب\\u200cها'})], text='\\nبیمار آقای علی رضایی، ۵۵ ساله، با سابقه بیماری قلبی و فشار خون بالا به کلینیک مراجعه کرده است.\\nوی به مدت ۶ ماه داروی آملودیپین 10 میلی\\u200cگرم روزانه و آتورواستاتین 20 میلی\\u200cگرم شبانه مصرف می\\u200cکند.\\nهمچنین، اخیراً دچار علائم دیابت نوع ۲ شده و انسولین 15 واحد صبح\\u200cها و 20 واحد شب\\u200cها تجویز شده است.\\n')\n"
          ]
        },
        {
          "output_type": "stream",
          "name": "stderr",
          "text": [
            "\n"
          ]
        }
      ]
    },
    {
      "cell_type": "code",
      "source": [
        "lx.io.save_annotated_documents([result], output_name=\"/content/extraction_results.jsonl\")"
      ],
      "metadata": {
        "colab": {
          "base_uri": "https://localhost:8080/"
        },
        "id": "MXOsLIHMAtIH",
        "outputId": "4cd0e241-dc54-47c6-ec59-e23824262c00"
      },
      "execution_count": 49,
      "outputs": [
        {
          "output_type": "stream",
          "name": "stderr",
          "text": [
            "\u001b[94m\u001b[1mLangExtract\u001b[0m: Saving to \u001b[92mextraction_results.jsonl\u001b[0m: 1 docs [00:00, 629.68 docs/s]"
          ]
        },
        {
          "output_type": "stream",
          "name": "stdout",
          "text": [
            "\u001b[92m✓\u001b[0m Saved \u001b[1m1\u001b[0m documents to \u001b[92mextraction_results.jsonl\u001b[0m\n"
          ]
        },
        {
          "output_type": "stream",
          "name": "stderr",
          "text": [
            "\n"
          ]
        }
      ]
    },
    {
      "cell_type": "code",
      "source": [
        "\n",
        "html = lx.visualize(\"/content/extraction_results.jsonl\")\n",
        "display(html)\n",
        "# Inject CSS to change background color\n",
        "display(HTML(\"\"\"\n",
        "<style>\n",
        "    body {\n",
        "        background-color: #f0f0f0 !important;\n",
        "        color: black !important;\n",
        "    }\n",
        "    .lx-text, .lx-annotation, .annotated-text {\n",
        "        color: black !important;\n",
        "    }\n",
        "</style>\n",
        "\"\"\"))"
      ],
      "metadata": {
        "colab": {
          "base_uri": "https://localhost:8080/",
          "height": 518
        },
        "id": "w2I4Z0e8ro55",
        "outputId": "7df43909-ac6f-414c-df7d-8de80ed50ffb"
      },
      "execution_count": 50,
      "outputs": [
        {
          "output_type": "stream",
          "name": "stderr",
          "text": [
            "\u001b[94m\u001b[1mLangExtract\u001b[0m: Loading \u001b[92mextraction_results.jsonl\u001b[0m: 100%|██████████| 2.91k/2.91k [00:00<00:00, 6.56MB/s]"
          ]
        },
        {
          "output_type": "stream",
          "name": "stdout",
          "text": [
            "\u001b[92m✓\u001b[0m Loaded \u001b[1m1\u001b[0m documents from \u001b[92mextraction_results.jsonl\u001b[0m\n"
          ]
        },
        {
          "output_type": "stream",
          "name": "stderr",
          "text": [
            "\n"
          ]
        },
        {
          "output_type": "display_data",
          "data": {
            "text/plain": [
              "<IPython.core.display.HTML object>"
            ],
            "text/html": [
              "<style>\n",
              ".lx-highlight { position: relative; border-radius:3px; padding:1px 2px;}\n",
              ".lx-highlight .lx-tooltip {\n",
              "  visibility: hidden;\n",
              "  opacity: 0;\n",
              "  transition: opacity 0.2s ease-in-out;\n",
              "  background: #333;\n",
              "  color: #fff;\n",
              "  text-align: left;\n",
              "  border-radius: 4px;\n",
              "  padding: 6px 8px;\n",
              "  position: absolute;\n",
              "  z-index: 1000;\n",
              "  bottom: 125%;\n",
              "  left: 50%;\n",
              "  transform: translateX(-50%);\n",
              "  font-size: 12px;\n",
              "  max-width: 240px;\n",
              "  white-space: normal;\n",
              "  box-shadow: 0 2px 6px rgba(0,0,0,0.3);\n",
              "}\n",
              ".lx-highlight:hover .lx-tooltip { visibility: visible; opacity:1; }\n",
              ".lx-animated-wrapper { max-width: 100%; font-family: Arial, sans-serif; }\n",
              ".lx-controls {\n",
              "  background: #fafafa; border: 1px solid #90caf9; border-radius: 8px;\n",
              "  padding: 12px; margin-bottom: 16px;\n",
              "}\n",
              ".lx-button-row {\n",
              "  display: flex; justify-content: center; gap: 8px; margin-bottom: 12px;\n",
              "}\n",
              ".lx-control-btn {\n",
              "  background: #4285f4; color: white; border: none; border-radius: 4px;\n",
              "  padding: 8px 16px; cursor: pointer; font-size: 13px; font-weight: 500;\n",
              "  transition: background-color 0.2s;\n",
              "}\n",
              ".lx-control-btn:hover { background: #3367d6; }\n",
              ".lx-progress-container {\n",
              "  margin-bottom: 8px;\n",
              "}\n",
              ".lx-progress-slider {\n",
              "  width: 100%; margin: 0; appearance: none; height: 6px;\n",
              "  background: #ddd; border-radius: 3px; outline: none;\n",
              "}\n",
              ".lx-progress-slider::-webkit-slider-thumb {\n",
              "  appearance: none; width: 18px; height: 18px; background: #4285f4;\n",
              "  border-radius: 50%; cursor: pointer;\n",
              "}\n",
              ".lx-progress-slider::-moz-range-thumb {\n",
              "  width: 18px; height: 18px; background: #4285f4; border-radius: 50%;\n",
              "  cursor: pointer; border: none;\n",
              "}\n",
              ".lx-status-text {\n",
              "  text-align: center; font-size: 12px; color: #666; margin-top: 4px;\n",
              "}\n",
              ".lx-text-window {\n",
              "  font-family: monospace; white-space: pre-wrap; border: 1px solid #90caf9;\n",
              "  padding: 12px; max-height: 260px; overflow-y: auto; margin-bottom: 12px;\n",
              "  line-height: 1.6;\n",
              "}\n",
              ".lx-attributes-panel {\n",
              "  background: #fafafa; border: 1px solid #90caf9; border-radius: 6px;\n",
              "  padding: 8px 10px; margin-top: 8px; font-size: 13px;\n",
              "}\n",
              ".lx-current-highlight {\n",
              "  border-bottom: 4px solid #ff4444;\n",
              "  font-weight: bold;\n",
              "  animation: lx-pulse 1s ease-in-out;\n",
              "}\n",
              "@keyframes lx-pulse {\n",
              "  0% { text-decoration-color: #ff4444; }\n",
              "  50% { text-decoration-color: #ff0000; }\n",
              "  100% { text-decoration-color: #ff4444; }\n",
              "}\n",
              ".lx-legend {\n",
              "  font-size: 12px; margin-bottom: 8px;\n",
              "  padding-bottom: 8px; border-bottom: 1px solid #e0e0e0;\n",
              "}\n",
              ".lx-label {\n",
              "  display: inline-block;\n",
              "  padding: 2px 4px;\n",
              "  border-radius: 3px;\n",
              "  margin-right: 4px;\n",
              "  color: #000;\n",
              "}\n",
              ".lx-attr-key {\n",
              "  font-weight: 600;\n",
              "  color: #1565c0;\n",
              "  letter-spacing: 0.3px;\n",
              "}\n",
              ".lx-attr-value {\n",
              "  font-weight: 400;\n",
              "  opacity: 0.85;\n",
              "  letter-spacing: 0.2px;\n",
              "}\n",
              "\n",
              "/* Add optimizations with larger fonts and better readability for GIFs */\n",
              ".lx-gif-optimized .lx-text-window { font-size: 16px; line-height: 1.8; }\n",
              ".lx-gif-optimized .lx-attributes-panel { font-size: 15px; }\n",
              ".lx-gif-optimized .lx-current-highlight { text-decoration-thickness: 4px; }\n",
              "</style>\n",
              "    <div class=\"lx-animated-wrapper lx-gif-optimized\">\n",
              "      <div class=\"lx-attributes-panel\">\n",
              "        <div class=\"lx-legend\">Highlights Legend: <span class=\"lx-label\" style=\"background-color:#D2E3FC;\">Disease</span> <span class=\"lx-label\" style=\"background-color:#C8E6C9;\">Medication</span> <span class=\"lx-label\" style=\"background-color:#FEF0C3;\">Patient</span></div>\n",
              "        <div id=\"attributesContainer\"></div>\n",
              "      </div>\n",
              "      <div class=\"lx-text-window\" id=\"textWindow\">\n",
              "\n",
              "بیمار <span class=\"lx-highlight lx-current-highlight\" data-idx=\"0\" style=\"background-color:#FEF0C3;\">آقای علی</span> رضایی، ۵۵ ساله، با سابقه <span class=\"lx-highlight\" data-idx=\"1\" style=\"background-color:#D2E3FC;\">بیماری قلبی</span> و <span class=\"lx-highlight\" data-idx=\"2\" style=\"background-color:#D2E3FC;\">فشار خون بالا</span> به کلینیک مراجعه کرده است.\n",
              "وی به مدت ۶ ماه داروی <span class=\"lx-highlight\" data-idx=\"3\" style=\"background-color:#C8E6C9;\">آملودیپین</span> 10 میلی‌گرم روزانه و <span class=\"lx-highlight\" data-idx=\"4\" style=\"background-color:#C8E6C9;\">آتورواستاتین</span> 20 میلی‌گرم شبانه مصرف می‌کند.\n",
              "همچنین، اخیراً دچار علائم <span class=\"lx-highlight\" data-idx=\"5\" style=\"background-color:#D2E3FC;\">دیابت نوع ۲</span> شده و <span class=\"lx-highlight\" data-idx=\"6\" style=\"background-color:#C8E6C9;\"><span class=\"lx-highlight\" data-idx=\"7\" style=\"background-color:#C8E6C9;\">انسولین</span></span> 15 واحد صبح‌ها و 20 واحد شب‌ها تجویز شده است.\n",
              "\n",
              "      </div>\n",
              "      <div class=\"lx-controls\">\n",
              "        <div class=\"lx-button-row\">\n",
              "          <button class=\"lx-control-btn\" onclick=\"playPause()\">▶️ Play</button>\n",
              "          <button class=\"lx-control-btn\" onclick=\"prevExtraction()\">⏮ Previous</button>\n",
              "          <button class=\"lx-control-btn\" onclick=\"nextExtraction()\">⏭ Next</button>\n",
              "        </div>\n",
              "        <div class=\"lx-progress-container\">\n",
              "          <input type=\"range\" id=\"progressSlider\" class=\"lx-progress-slider\"\n",
              "                 min=\"0\" max=\"7\" value=\"0\"\n",
              "                 onchange=\"jumpToExtraction(this.value)\">\n",
              "        </div>\n",
              "        <div class=\"lx-status-text\">\n",
              "          Entity <span id=\"entityInfo\">1/8</span> |\n",
              "          Pos <span id=\"posInfo\">[7-15]</span>\n",
              "        </div>\n",
              "      </div>\n",
              "    </div>\n",
              "\n",
              "    <script>\n",
              "      (function() {\n",
              "        const extractions = [{\"index\": 0, \"class\": \"Patient\", \"text\": \"\\u0622\\u0642\\u0627\\u06cc \\u0639\\u0644\\u06cc \\u0631\\u0636\\u0627\\u06cc\\u06cc\", \"color\": \"#FEF0C3\", \"startPos\": 7, \"endPos\": 15, \"beforeText\": \"\\n\\u0628\\u06cc\\u0645\\u0627\\u0631 \", \"extractionText\": \"\\u0622\\u0642\\u0627\\u06cc \\u0639\\u0644\\u06cc\", \"afterText\": \" \\u0631\\u0636\\u0627\\u06cc\\u06cc\\u060c \\u06f5\\u06f5 \\u0633\\u0627\\u0644\\u0647\\u060c \\u0628\\u0627 \\u0633\\u0627\\u0628\\u0642\\u0647 \\u0628\\u06cc\\u0645\\u0627\\u0631\\u06cc \\u0642\\u0644\\u0628\\u06cc \\u0648 \\u0641\\u0634\\u0627\\u0631 \\u062e\\u0648\\u0646 \\u0628\\u0627\\u0644\\u0627 \\u0628\\u0647 \\u06a9\\u0644\\u06cc\\u0646\\u06cc\\u06a9 \\u0645\\u0631\\u0627\\u062c\\u0639\\u0647 \\u06a9\\u0631\\u062f\\u0647 \\u0627\\u0633\\u062a.\\n\\u0648\\u06cc \\u0628\\u0647 \\u0645\\u062f\\u062a \\u06f6 \\u0645\\u0627\\u0647 \\u062f\\u0627\\u0631\\u0648\\u06cc \\u0622\\u0645\\u0644\\u0648\\u062f\\u06cc\\u067e\\u06cc\\u0646 10 \\u0645\\u06cc\\u0644\\u06cc\\u200c\\u06af\\u0631\\u0645 \\u0631\\u0648\\u0632\\u0627\\u0646\\u0647 \\u0648 \\u0622\\u062a\\u0648\\u0631\\u0648\\u0627\\u0633\\u062a\\u0627\\u062a\\u06cc\\u0646 20 \", \"attributesHtml\": \"<div><strong>class:</strong> Patient</div><div><strong>attributes:</strong> {<span class=\\\"lx-attr-key\\\">role</span>: <span class=\\\"lx-attr-value\\\">\\u0628\\u06cc\\u0645\\u0627\\u0631</span>}</div>\"}, {\"index\": 1, \"class\": \"Disease\", \"text\": \"\\u0628\\u06cc\\u0645\\u0627\\u0631\\u06cc \\u0642\\u0644\\u0628\\u06cc\", \"color\": \"#D2E3FC\", \"startPos\": 41, \"endPos\": 52, \"beforeText\": \"\\n\\u0628\\u06cc\\u0645\\u0627\\u0631 \\u0622\\u0642\\u0627\\u06cc \\u0639\\u0644\\u06cc \\u0631\\u0636\\u0627\\u06cc\\u06cc\\u060c \\u06f5\\u06f5 \\u0633\\u0627\\u0644\\u0647\\u060c \\u0628\\u0627 \\u0633\\u0627\\u0628\\u0642\\u0647 \", \"extractionText\": \"\\u0628\\u06cc\\u0645\\u0627\\u0631\\u06cc \\u0642\\u0644\\u0628\\u06cc\", \"afterText\": \" \\u0648 \\u0641\\u0634\\u0627\\u0631 \\u062e\\u0648\\u0646 \\u0628\\u0627\\u0644\\u0627 \\u0628\\u0647 \\u06a9\\u0644\\u06cc\\u0646\\u06cc\\u06a9 \\u0645\\u0631\\u0627\\u062c\\u0639\\u0647 \\u06a9\\u0631\\u062f\\u0647 \\u0627\\u0633\\u062a.\\n\\u0648\\u06cc \\u0628\\u0647 \\u0645\\u062f\\u062a \\u06f6 \\u0645\\u0627\\u0647 \\u062f\\u0627\\u0631\\u0648\\u06cc \\u0622\\u0645\\u0644\\u0648\\u062f\\u06cc\\u067e\\u06cc\\u0646 10 \\u0645\\u06cc\\u0644\\u06cc\\u200c\\u06af\\u0631\\u0645 \\u0631\\u0648\\u0632\\u0627\\u0646\\u0647 \\u0648 \\u0622\\u062a\\u0648\\u0631\\u0648\\u0627\\u0633\\u062a\\u0627\\u062a\\u06cc\\u0646 20 \\u0645\\u06cc\\u0644\\u06cc\\u200c\\u06af\\u0631\\u0645 \\u0634\\u0628\\u0627\\u0646\\u0647 \\u0645\\u0635\\u0631\\u0641 \\u0645\\u06cc\\u200c\\u06a9\\u0646\\u062f.\\n\\u0647\\u0645\\u0686\\u0646\\u06cc\\u0646\\u060c \\u0627\", \"attributesHtml\": \"<div><strong>class:</strong> Disease</div><div><strong>attributes:</strong> {<span class=\\\"lx-attr-key\\\">type</span>: <span class=\\\"lx-attr-value\\\">\\u0645\\u0632\\u0645\\u0646</span>}</div>\"}, {\"index\": 2, \"class\": \"Disease\", \"text\": \"\\u0641\\u0634\\u0627\\u0631 \\u062e\\u0648\\u0646 \\u0628\\u0627\\u0644\\u0627\", \"color\": \"#D2E3FC\", \"startPos\": 55, \"endPos\": 68, \"beforeText\": \"\\n\\u0628\\u06cc\\u0645\\u0627\\u0631 \\u0622\\u0642\\u0627\\u06cc \\u0639\\u0644\\u06cc \\u0631\\u0636\\u0627\\u06cc\\u06cc\\u060c \\u06f5\\u06f5 \\u0633\\u0627\\u0644\\u0647\\u060c \\u0628\\u0627 \\u0633\\u0627\\u0628\\u0642\\u0647 \\u0628\\u06cc\\u0645\\u0627\\u0631\\u06cc \\u0642\\u0644\\u0628\\u06cc \\u0648 \", \"extractionText\": \"\\u0641\\u0634\\u0627\\u0631 \\u062e\\u0648\\u0646 \\u0628\\u0627\\u0644\\u0627\", \"afterText\": \" \\u0628\\u0647 \\u06a9\\u0644\\u06cc\\u0646\\u06cc\\u06a9 \\u0645\\u0631\\u0627\\u062c\\u0639\\u0647 \\u06a9\\u0631\\u062f\\u0647 \\u0627\\u0633\\u062a.\\n\\u0648\\u06cc \\u0628\\u0647 \\u0645\\u062f\\u062a \\u06f6 \\u0645\\u0627\\u0647 \\u062f\\u0627\\u0631\\u0648\\u06cc \\u0622\\u0645\\u0644\\u0648\\u062f\\u06cc\\u067e\\u06cc\\u0646 10 \\u0645\\u06cc\\u0644\\u06cc\\u200c\\u06af\\u0631\\u0645 \\u0631\\u0648\\u0632\\u0627\\u0646\\u0647 \\u0648 \\u0622\\u062a\\u0648\\u0631\\u0648\\u0627\\u0633\\u062a\\u0627\\u062a\\u06cc\\u0646 20 \\u0645\\u06cc\\u0644\\u06cc\\u200c\\u06af\\u0631\\u0645 \\u0634\\u0628\\u0627\\u0646\\u0647 \\u0645\\u0635\\u0631\\u0641 \\u0645\\u06cc\\u200c\\u06a9\\u0646\\u062f.\\n\\u0647\\u0645\\u0686\\u0646\\u06cc\\u0646\\u060c \\u0627\\u062e\\u06cc\\u0631\\u0627\\u064b \\u062f\\u0686\\u0627\\u0631 \\u0639\\u0644\\u0627\\u0626\\u0645\", \"attributesHtml\": \"<div><strong>class:</strong> Disease</div><div><strong>attributes:</strong> {<span class=\\\"lx-attr-key\\\">type</span>: <span class=\\\"lx-attr-value\\\">\\u0645\\u0632\\u0645\\u0646</span>}</div>\"}, {\"index\": 3, \"class\": \"Medication\", \"text\": \"\\u0622\\u0645\\u0644\\u0648\\u062f\\u06cc\\u067e\\u06cc\\u0646\", \"color\": \"#C8E6C9\", \"startPos\": 118, \"endPos\": 127, \"beforeText\": \"\\n\\u0628\\u06cc\\u0645\\u0627\\u0631 \\u0622\\u0642\\u0627\\u06cc \\u0639\\u0644\\u06cc \\u0631\\u0636\\u0627\\u06cc\\u06cc\\u060c \\u06f5\\u06f5 \\u0633\\u0627\\u0644\\u0647\\u060c \\u0628\\u0627 \\u0633\\u0627\\u0628\\u0642\\u0647 \\u0628\\u06cc\\u0645\\u0627\\u0631\\u06cc \\u0642\\u0644\\u0628\\u06cc \\u0648 \\u0641\\u0634\\u0627\\u0631 \\u062e\\u0648\\u0646 \\u0628\\u0627\\u0644\\u0627 \\u0628\\u0647 \\u06a9\\u0644\\u06cc\\u0646\\u06cc\\u06a9 \\u0645\\u0631\\u0627\\u062c\\u0639\\u0647 \\u06a9\\u0631\\u062f\\u0647 \\u0627\\u0633\\u062a.\\n\\u0648\\u06cc \\u0628\\u0647 \\u0645\\u062f\\u062a \\u06f6 \\u0645\\u0627\\u0647 \\u062f\\u0627\\u0631\\u0648\\u06cc \", \"extractionText\": \"\\u0622\\u0645\\u0644\\u0648\\u062f\\u06cc\\u067e\\u06cc\\u0646\", \"afterText\": \" 10 \\u0645\\u06cc\\u0644\\u06cc\\u200c\\u06af\\u0631\\u0645 \\u0631\\u0648\\u0632\\u0627\\u0646\\u0647 \\u0648 \\u0622\\u062a\\u0648\\u0631\\u0648\\u0627\\u0633\\u062a\\u0627\\u062a\\u06cc\\u0646 20 \\u0645\\u06cc\\u0644\\u06cc\\u200c\\u06af\\u0631\\u0645 \\u0634\\u0628\\u0627\\u0646\\u0647 \\u0645\\u0635\\u0631\\u0641 \\u0645\\u06cc\\u200c\\u06a9\\u0646\\u062f.\\n\\u0647\\u0645\\u0686\\u0646\\u06cc\\u0646\\u060c \\u0627\\u062e\\u06cc\\u0631\\u0627\\u064b \\u062f\\u0686\\u0627\\u0631 \\u0639\\u0644\\u0627\\u0626\\u0645 \\u062f\\u06cc\\u0627\\u0628\\u062a \\u0646\\u0648\\u0639 \\u06f2 \\u0634\\u062f\\u0647 \\u0648 \\u0627\\u0646\\u0633\\u0648\\u0644\\u06cc\\u0646 15 \\u0648\\u0627\\u062d\\u062f \\u0635\\u0628\\u062d\\u200c\\u0647\\u0627 \\u0648 20 \\u0648\\u0627\\u062d\\u062f \\u0634\\u0628\\u200c\\u0647\\u0627 \\u062a\", \"attributesHtml\": \"<div><strong>class:</strong> Medication</div><div><strong>attributes:</strong> {<span class=\\\"lx-attr-key\\\">dose</span>: <span class=\\\"lx-attr-value\\\">10 \\u0645\\u06cc\\u0644\\u06cc\\u200c\\u06af\\u0631\\u0645</span>, <span class=\\\"lx-attr-key\\\">duration</span>: <span class=\\\"lx-attr-value\\\">\\u0628\\u0647 \\u0645\\u062f\\u062a \\u06f6 \\u0645\\u0627\\u0647</span>, <span class=\\\"lx-attr-key\\\">frequency</span>: <span class=\\\"lx-attr-value\\\">\\u0631\\u0648\\u0632\\u0627\\u0646\\u0647</span>}</div>\"}, {\"index\": 4, \"class\": \"Medication\", \"text\": \"\\u0622\\u062a\\u0648\\u0631\\u0648\\u0627\\u0633\\u062a\\u0627\\u062a\\u06cc\\u0646\", \"color\": \"#C8E6C9\", \"startPos\": 149, \"endPos\": 161, \"beforeText\": \"\\n\\u0628\\u06cc\\u0645\\u0627\\u0631 \\u0622\\u0642\\u0627\\u06cc \\u0639\\u0644\\u06cc \\u0631\\u0636\\u0627\\u06cc\\u06cc\\u060c \\u06f5\\u06f5 \\u0633\\u0627\\u0644\\u0647\\u060c \\u0628\\u0627 \\u0633\\u0627\\u0628\\u0642\\u0647 \\u0628\\u06cc\\u0645\\u0627\\u0631\\u06cc \\u0642\\u0644\\u0628\\u06cc \\u0648 \\u0641\\u0634\\u0627\\u0631 \\u062e\\u0648\\u0646 \\u0628\\u0627\\u0644\\u0627 \\u0628\\u0647 \\u06a9\\u0644\\u06cc\\u0646\\u06cc\\u06a9 \\u0645\\u0631\\u0627\\u062c\\u0639\\u0647 \\u06a9\\u0631\\u062f\\u0647 \\u0627\\u0633\\u062a.\\n\\u0648\\u06cc \\u0628\\u0647 \\u0645\\u062f\\u062a \\u06f6 \\u0645\\u0627\\u0647 \\u062f\\u0627\\u0631\\u0648\\u06cc \\u0622\\u0645\\u0644\\u0648\\u062f\\u06cc\\u067e\\u06cc\\u0646 10 \\u0645\\u06cc\\u0644\\u06cc\\u200c\\u06af\\u0631\\u0645 \\u0631\\u0648\\u0632\\u0627\\u0646\\u0647 \\u0648 \", \"extractionText\": \"\\u0622\\u062a\\u0648\\u0631\\u0648\\u0627\\u0633\\u062a\\u0627\\u062a\\u06cc\\u0646\", \"afterText\": \" 20 \\u0645\\u06cc\\u0644\\u06cc\\u200c\\u06af\\u0631\\u0645 \\u0634\\u0628\\u0627\\u0646\\u0647 \\u0645\\u0635\\u0631\\u0641 \\u0645\\u06cc\\u200c\\u06a9\\u0646\\u062f.\\n\\u0647\\u0645\\u0686\\u0646\\u06cc\\u0646\\u060c \\u0627\\u062e\\u06cc\\u0631\\u0627\\u064b \\u062f\\u0686\\u0627\\u0631 \\u0639\\u0644\\u0627\\u0626\\u0645 \\u062f\\u06cc\\u0627\\u0628\\u062a \\u0646\\u0648\\u0639 \\u06f2 \\u0634\\u062f\\u0647 \\u0648 \\u0627\\u0646\\u0633\\u0648\\u0644\\u06cc\\u0646 15 \\u0648\\u0627\\u062d\\u062f \\u0635\\u0628\\u062d\\u200c\\u0647\\u0627 \\u0648 20 \\u0648\\u0627\\u062d\\u062f \\u0634\\u0628\\u200c\\u0647\\u0627 \\u062a\\u062c\\u0648\\u06cc\\u0632 \\u0634\\u062f\\u0647 \\u0627\\u0633\\u062a.\\n\", \"attributesHtml\": \"<div><strong>class:</strong> Medication</div><div><strong>attributes:</strong> {<span class=\\\"lx-attr-key\\\">dose</span>: <span class=\\\"lx-attr-value\\\">20 \\u0645\\u06cc\\u0644\\u06cc\\u200c\\u06af\\u0631\\u0645</span>, <span class=\\\"lx-attr-key\\\">duration</span>: <span class=\\\"lx-attr-value\\\">\\u0628\\u0647 \\u0645\\u062f\\u062a \\u06f6 \\u0645\\u0627\\u0647</span>, <span class=\\\"lx-attr-key\\\">frequency</span>: <span class=\\\"lx-attr-value\\\">\\u0634\\u0628\\u0627\\u0646\\u0647</span>}</div>\"}, {\"index\": 5, \"class\": \"Disease\", \"text\": \"\\u062f\\u06cc\\u0627\\u0628\\u062a \\u0646\\u0648\\u0639 \\u06f2\", \"color\": \"#D2E3FC\", \"startPos\": 219, \"endPos\": 230, \"beforeText\": \"\\u0628\\u0647 \\u06a9\\u0644\\u06cc\\u0646\\u06cc\\u06a9 \\u0645\\u0631\\u0627\\u062c\\u0639\\u0647 \\u06a9\\u0631\\u062f\\u0647 \\u0627\\u0633\\u062a.\\n\\u0648\\u06cc \\u0628\\u0647 \\u0645\\u062f\\u062a \\u06f6 \\u0645\\u0627\\u0647 \\u062f\\u0627\\u0631\\u0648\\u06cc \\u0622\\u0645\\u0644\\u0648\\u062f\\u06cc\\u067e\\u06cc\\u0646 10 \\u0645\\u06cc\\u0644\\u06cc\\u200c\\u06af\\u0631\\u0645 \\u0631\\u0648\\u0632\\u0627\\u0646\\u0647 \\u0648 \\u0622\\u062a\\u0648\\u0631\\u0648\\u0627\\u0633\\u062a\\u0627\\u062a\\u06cc\\u0646 20 \\u0645\\u06cc\\u0644\\u06cc\\u200c\\u06af\\u0631\\u0645 \\u0634\\u0628\\u0627\\u0646\\u0647 \\u0645\\u0635\\u0631\\u0641 \\u0645\\u06cc\\u200c\\u06a9\\u0646\\u062f.\\n\\u0647\\u0645\\u0686\\u0646\\u06cc\\u0646\\u060c \\u0627\\u062e\\u06cc\\u0631\\u0627\\u064b \\u062f\\u0686\\u0627\\u0631 \\u0639\\u0644\\u0627\\u0626\\u0645 \", \"extractionText\": \"\\u062f\\u06cc\\u0627\\u0628\\u062a \\u0646\\u0648\\u0639 \\u06f2\", \"afterText\": \" \\u0634\\u062f\\u0647 \\u0648 \\u0627\\u0646\\u0633\\u0648\\u0644\\u06cc\\u0646 15 \\u0648\\u0627\\u062d\\u062f \\u0635\\u0628\\u062d\\u200c\\u0647\\u0627 \\u0648 20 \\u0648\\u0627\\u062d\\u062f \\u0634\\u0628\\u200c\\u0647\\u0627 \\u062a\\u062c\\u0648\\u06cc\\u0632 \\u0634\\u062f\\u0647 \\u0627\\u0633\\u062a.\\n\", \"attributesHtml\": \"<div><strong>class:</strong> Disease</div><div><strong>attributes:</strong> {<span class=\\\"lx-attr-key\\\">type</span>: <span class=\\\"lx-attr-value\\\">\\u0645\\u0632\\u0645\\u0646</span>}</div>\"}, {\"index\": 6, \"class\": \"Medication\", \"text\": \"\\u0627\\u0646\\u0633\\u0648\\u0644\\u06cc\\u0646\", \"color\": \"#C8E6C9\", \"startPos\": 237, \"endPos\": 244, \"beforeText\": \"\\u0631\\u062f\\u0647 \\u0627\\u0633\\u062a.\\n\\u0648\\u06cc \\u0628\\u0647 \\u0645\\u062f\\u062a \\u06f6 \\u0645\\u0627\\u0647 \\u062f\\u0627\\u0631\\u0648\\u06cc \\u0622\\u0645\\u0644\\u0648\\u062f\\u06cc\\u067e\\u06cc\\u0646 10 \\u0645\\u06cc\\u0644\\u06cc\\u200c\\u06af\\u0631\\u0645 \\u0631\\u0648\\u0632\\u0627\\u0646\\u0647 \\u0648 \\u0622\\u062a\\u0648\\u0631\\u0648\\u0627\\u0633\\u062a\\u0627\\u062a\\u06cc\\u0646 20 \\u0645\\u06cc\\u0644\\u06cc\\u200c\\u06af\\u0631\\u0645 \\u0634\\u0628\\u0627\\u0646\\u0647 \\u0645\\u0635\\u0631\\u0641 \\u0645\\u06cc\\u200c\\u06a9\\u0646\\u062f.\\n\\u0647\\u0645\\u0686\\u0646\\u06cc\\u0646\\u060c \\u0627\\u062e\\u06cc\\u0631\\u0627\\u064b \\u062f\\u0686\\u0627\\u0631 \\u0639\\u0644\\u0627\\u0626\\u0645 \\u062f\\u06cc\\u0627\\u0628\\u062a \\u0646\\u0648\\u0639 \\u06f2 \\u0634\\u062f\\u0647 \\u0648 \", \"extractionText\": \"\\u0627\\u0646\\u0633\\u0648\\u0644\\u06cc\\u0646\", \"afterText\": \" 15 \\u0648\\u0627\\u062d\\u062f \\u0635\\u0628\\u062d\\u200c\\u0647\\u0627 \\u0648 20 \\u0648\\u0627\\u062d\\u062f \\u0634\\u0628\\u200c\\u0647\\u0627 \\u062a\\u062c\\u0648\\u06cc\\u0632 \\u0634\\u062f\\u0647 \\u0627\\u0633\\u062a.\\n\", \"attributesHtml\": \"<div><strong>class:</strong> Medication</div><div><strong>attributes:</strong> {<span class=\\\"lx-attr-key\\\">dose</span>: <span class=\\\"lx-attr-value\\\">15 \\u0648\\u0627\\u062d\\u062f</span>, <span class=\\\"lx-attr-key\\\">frequency</span>: <span class=\\\"lx-attr-value\\\">\\u0635\\u0628\\u062d\\u200c\\u0647\\u0627</span>}</div>\"}, {\"index\": 7, \"class\": \"Medication\", \"text\": \"\\u0627\\u0646\\u0633\\u0648\\u0644\\u06cc\\u0646\", \"color\": \"#C8E6C9\", \"startPos\": 237, \"endPos\": 244, \"beforeText\": \"\\u0631\\u062f\\u0647 \\u0627\\u0633\\u062a.\\n\\u0648\\u06cc \\u0628\\u0647 \\u0645\\u062f\\u062a \\u06f6 \\u0645\\u0627\\u0647 \\u062f\\u0627\\u0631\\u0648\\u06cc \\u0622\\u0645\\u0644\\u0648\\u062f\\u06cc\\u067e\\u06cc\\u0646 10 \\u0645\\u06cc\\u0644\\u06cc\\u200c\\u06af\\u0631\\u0645 \\u0631\\u0648\\u0632\\u0627\\u0646\\u0647 \\u0648 \\u0622\\u062a\\u0648\\u0631\\u0648\\u0627\\u0633\\u062a\\u0627\\u062a\\u06cc\\u0646 20 \\u0645\\u06cc\\u0644\\u06cc\\u200c\\u06af\\u0631\\u0645 \\u0634\\u0628\\u0627\\u0646\\u0647 \\u0645\\u0635\\u0631\\u0641 \\u0645\\u06cc\\u200c\\u06a9\\u0646\\u062f.\\n\\u0647\\u0645\\u0686\\u0646\\u06cc\\u0646\\u060c \\u0627\\u062e\\u06cc\\u0631\\u0627\\u064b \\u062f\\u0686\\u0627\\u0631 \\u0639\\u0644\\u0627\\u0626\\u0645 \\u062f\\u06cc\\u0627\\u0628\\u062a \\u0646\\u0648\\u0639 \\u06f2 \\u0634\\u062f\\u0647 \\u0648 \", \"extractionText\": \"\\u0627\\u0646\\u0633\\u0648\\u0644\\u06cc\\u0646\", \"afterText\": \" 15 \\u0648\\u0627\\u062d\\u062f \\u0635\\u0628\\u062d\\u200c\\u0647\\u0627 \\u0648 20 \\u0648\\u0627\\u062d\\u062f \\u0634\\u0628\\u200c\\u0647\\u0627 \\u062a\\u062c\\u0648\\u06cc\\u0632 \\u0634\\u062f\\u0647 \\u0627\\u0633\\u062a.\\n\", \"attributesHtml\": \"<div><strong>class:</strong> Medication</div><div><strong>attributes:</strong> {<span class=\\\"lx-attr-key\\\">dose</span>: <span class=\\\"lx-attr-value\\\">20 \\u0648\\u0627\\u062d\\u062f</span>, <span class=\\\"lx-attr-key\\\">frequency</span>: <span class=\\\"lx-attr-value\\\">\\u0634\\u0628\\u200c\\u0647\\u0627</span>}</div>\"}];\n",
              "        let currentIndex = 0;\n",
              "        let isPlaying = false;\n",
              "        let animationInterval = null;\n",
              "        let animationSpeed = 1.0;\n",
              "\n",
              "        function updateDisplay() {\n",
              "          const extraction = extractions[currentIndex];\n",
              "          if (!extraction) return;\n",
              "\n",
              "          document.getElementById('attributesContainer').innerHTML = extraction.attributesHtml;\n",
              "          document.getElementById('entityInfo').textContent = (currentIndex + 1) + '/' + extractions.length;\n",
              "          document.getElementById('posInfo').textContent = '[' + extraction.startPos + '-' + extraction.endPos + ']';\n",
              "          document.getElementById('progressSlider').value = currentIndex;\n",
              "\n",
              "          const playBtn = document.querySelector('.lx-control-btn');\n",
              "          if (playBtn) playBtn.textContent = isPlaying ? '⏸ Pause' : '▶️ Play';\n",
              "\n",
              "          const prevHighlight = document.querySelector('.lx-text-window .lx-current-highlight');\n",
              "          if (prevHighlight) prevHighlight.classList.remove('lx-current-highlight');\n",
              "          const currentSpan = document.querySelector('.lx-text-window span[data-idx=\"' + currentIndex + '\"]');\n",
              "          if (currentSpan) {\n",
              "            currentSpan.classList.add('lx-current-highlight');\n",
              "            currentSpan.scrollIntoView({block: 'center', behavior: 'smooth'});\n",
              "          }\n",
              "        }\n",
              "\n",
              "        function nextExtraction() {\n",
              "          currentIndex = (currentIndex + 1) % extractions.length;\n",
              "          updateDisplay();\n",
              "        }\n",
              "\n",
              "        function prevExtraction() {\n",
              "          currentIndex = (currentIndex - 1 + extractions.length) % extractions.length;\n",
              "          updateDisplay();\n",
              "        }\n",
              "\n",
              "        function jumpToExtraction(index) {\n",
              "          currentIndex = parseInt(index);\n",
              "          updateDisplay();\n",
              "        }\n",
              "\n",
              "        function playPause() {\n",
              "          if (isPlaying) {\n",
              "            clearInterval(animationInterval);\n",
              "            isPlaying = false;\n",
              "          } else {\n",
              "            animationInterval = setInterval(nextExtraction, animationSpeed * 1000);\n",
              "            isPlaying = true;\n",
              "          }\n",
              "          updateDisplay();\n",
              "        }\n",
              "\n",
              "        window.playPause = playPause;\n",
              "        window.nextExtraction = nextExtraction;\n",
              "        window.prevExtraction = prevExtraction;\n",
              "        window.jumpToExtraction = jumpToExtraction;\n",
              "\n",
              "        updateDisplay();\n",
              "      })();\n",
              "    </script>"
            ]
          },
          "metadata": {}
        },
        {
          "output_type": "display_data",
          "data": {
            "text/plain": [
              "<IPython.core.display.HTML object>"
            ],
            "text/html": [
              "\n",
              "<style>\n",
              "    body {\n",
              "        background-color: #f0f0f0 !important; \n",
              "        color: black !important;              \n",
              "    }\n",
              "    .lx-text, .lx-annotation, .annotated-text {\n",
              "        color: black !important;\n",
              "    }\n",
              "</style>\n"
            ]
          },
          "metadata": {}
        }
      ]
    }
  ]
}