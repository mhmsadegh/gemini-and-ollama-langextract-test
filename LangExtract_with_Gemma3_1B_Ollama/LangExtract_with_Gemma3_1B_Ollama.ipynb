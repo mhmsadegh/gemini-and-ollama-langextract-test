{
  "nbformat": 4,
  "nbformat_minor": 0,
  "metadata": {
    "colab": {
      "provenance": [],
      "gpuType": "T4"
    },
    "kernelspec": {
      "name": "python3",
      "display_name": "Python 3"
    },
    "language_info": {
      "name": "python"
    },
    "accelerator": "GPU"
  },
  "cells": [
    {
      "cell_type": "markdown",
      "source": [
        "\n",
        "<h5> Install the LangExtract Python package\n",
        "</h5>"
      ],
      "metadata": {
        "id": "fdYdTAoeOEdJ"
      }
    },
    {
      "cell_type": "code",
      "source": [
        "!pip install langextract"
      ],
      "metadata": {
        "colab": {
          "base_uri": "https://localhost:8080/"
        },
        "collapsed": true,
        "id": "ofqrV64ZHbHr",
        "outputId": "e149e9a1-155e-4b59-914d-a8b6d2025fc4"
      },
      "execution_count": 8,
      "outputs": [
        {
          "output_type": "stream",
          "name": "stdout",
          "text": [
            "Collecting langextract\n",
            "  Downloading langextract-1.0.5-py3-none-any.whl.metadata (17 kB)\n",
            "Requirement already satisfied: absl-py>=1.0.0 in /usr/local/lib/python3.11/dist-packages (from langextract) (1.4.0)\n",
            "Requirement already satisfied: aiohttp>=3.8.0 in /usr/local/lib/python3.11/dist-packages (from langextract) (3.12.15)\n",
            "Collecting async_timeout>=4.0.0 (from langextract)\n",
            "  Downloading async_timeout-5.0.1-py3-none-any.whl.metadata (5.1 kB)\n",
            "Collecting exceptiongroup>=1.1.0 (from langextract)\n",
            "  Downloading exceptiongroup-1.3.0-py3-none-any.whl.metadata (6.7 kB)\n",
            "Requirement already satisfied: google-genai>=0.1.0 in /usr/local/lib/python3.11/dist-packages (from langextract) (1.28.0)\n",
            "Collecting ml-collections>=0.1.0 (from langextract)\n",
            "  Downloading ml_collections-1.1.0-py3-none-any.whl.metadata (22 kB)\n",
            "Requirement already satisfied: more-itertools>=8.0.0 in /usr/local/lib/python3.11/dist-packages (from langextract) (10.7.0)\n",
            "Requirement already satisfied: numpy>=1.20.0 in /usr/local/lib/python3.11/dist-packages (from langextract) (2.0.2)\n",
            "Requirement already satisfied: openai>=1.50.0 in /usr/local/lib/python3.11/dist-packages (from langextract) (1.99.1)\n",
            "Requirement already satisfied: pandas>=1.3.0 in /usr/local/lib/python3.11/dist-packages (from langextract) (2.2.2)\n",
            "Requirement already satisfied: pydantic>=1.8.0 in /usr/local/lib/python3.11/dist-packages (from langextract) (2.11.7)\n",
            "Collecting python-dotenv>=0.19.0 (from langextract)\n",
            "  Downloading python_dotenv-1.1.1-py3-none-any.whl.metadata (24 kB)\n",
            "Requirement already satisfied: PyYAML>=6.0 in /usr/local/lib/python3.11/dist-packages (from langextract) (6.0.2)\n",
            "Requirement already satisfied: requests>=2.25.0 in /usr/local/lib/python3.11/dist-packages (from langextract) (2.32.3)\n",
            "Requirement already satisfied: tqdm>=4.64.0 in /usr/local/lib/python3.11/dist-packages (from langextract) (4.67.1)\n",
            "Requirement already satisfied: typing-extensions>=4.0.0 in /usr/local/lib/python3.11/dist-packages (from langextract) (4.14.1)\n",
            "Requirement already satisfied: aiohappyeyeballs>=2.5.0 in /usr/local/lib/python3.11/dist-packages (from aiohttp>=3.8.0->langextract) (2.6.1)\n",
            "Requirement already satisfied: aiosignal>=1.4.0 in /usr/local/lib/python3.11/dist-packages (from aiohttp>=3.8.0->langextract) (1.4.0)\n",
            "Requirement already satisfied: attrs>=17.3.0 in /usr/local/lib/python3.11/dist-packages (from aiohttp>=3.8.0->langextract) (25.3.0)\n",
            "Requirement already satisfied: frozenlist>=1.1.1 in /usr/local/lib/python3.11/dist-packages (from aiohttp>=3.8.0->langextract) (1.7.0)\n",
            "Requirement already satisfied: multidict<7.0,>=4.5 in /usr/local/lib/python3.11/dist-packages (from aiohttp>=3.8.0->langextract) (6.6.3)\n",
            "Requirement already satisfied: propcache>=0.2.0 in /usr/local/lib/python3.11/dist-packages (from aiohttp>=3.8.0->langextract) (0.3.2)\n",
            "Requirement already satisfied: yarl<2.0,>=1.17.0 in /usr/local/lib/python3.11/dist-packages (from aiohttp>=3.8.0->langextract) (1.20.1)\n",
            "Requirement already satisfied: anyio<5.0.0,>=4.8.0 in /usr/local/lib/python3.11/dist-packages (from google-genai>=0.1.0->langextract) (4.10.0)\n",
            "Requirement already satisfied: google-auth<3.0.0,>=2.14.1 in /usr/local/lib/python3.11/dist-packages (from google-genai>=0.1.0->langextract) (2.38.0)\n",
            "Requirement already satisfied: httpx<1.0.0,>=0.28.1 in /usr/local/lib/python3.11/dist-packages (from google-genai>=0.1.0->langextract) (0.28.1)\n",
            "Requirement already satisfied: tenacity<9.0.0,>=8.2.3 in /usr/local/lib/python3.11/dist-packages (from google-genai>=0.1.0->langextract) (8.5.0)\n",
            "Requirement already satisfied: websockets<15.1.0,>=13.0.0 in /usr/local/lib/python3.11/dist-packages (from google-genai>=0.1.0->langextract) (15.0.1)\n",
            "Requirement already satisfied: distro<2,>=1.7.0 in /usr/local/lib/python3.11/dist-packages (from openai>=1.50.0->langextract) (1.9.0)\n",
            "Requirement already satisfied: jiter<1,>=0.4.0 in /usr/local/lib/python3.11/dist-packages (from openai>=1.50.0->langextract) (0.10.0)\n",
            "Requirement already satisfied: sniffio in /usr/local/lib/python3.11/dist-packages (from openai>=1.50.0->langextract) (1.3.1)\n",
            "Requirement already satisfied: python-dateutil>=2.8.2 in /usr/local/lib/python3.11/dist-packages (from pandas>=1.3.0->langextract) (2.9.0.post0)\n",
            "Requirement already satisfied: pytz>=2020.1 in /usr/local/lib/python3.11/dist-packages (from pandas>=1.3.0->langextract) (2025.2)\n",
            "Requirement already satisfied: tzdata>=2022.7 in /usr/local/lib/python3.11/dist-packages (from pandas>=1.3.0->langextract) (2025.2)\n",
            "Requirement already satisfied: annotated-types>=0.6.0 in /usr/local/lib/python3.11/dist-packages (from pydantic>=1.8.0->langextract) (0.7.0)\n",
            "Requirement already satisfied: pydantic-core==2.33.2 in /usr/local/lib/python3.11/dist-packages (from pydantic>=1.8.0->langextract) (2.33.2)\n",
            "Requirement already satisfied: typing-inspection>=0.4.0 in /usr/local/lib/python3.11/dist-packages (from pydantic>=1.8.0->langextract) (0.4.1)\n",
            "Requirement already satisfied: charset-normalizer<4,>=2 in /usr/local/lib/python3.11/dist-packages (from requests>=2.25.0->langextract) (3.4.2)\n",
            "Requirement already satisfied: idna<4,>=2.5 in /usr/local/lib/python3.11/dist-packages (from requests>=2.25.0->langextract) (3.10)\n",
            "Requirement already satisfied: urllib3<3,>=1.21.1 in /usr/local/lib/python3.11/dist-packages (from requests>=2.25.0->langextract) (2.5.0)\n",
            "Requirement already satisfied: certifi>=2017.4.17 in /usr/local/lib/python3.11/dist-packages (from requests>=2.25.0->langextract) (2025.8.3)\n",
            "Requirement already satisfied: cachetools<6.0,>=2.0.0 in /usr/local/lib/python3.11/dist-packages (from google-auth<3.0.0,>=2.14.1->google-genai>=0.1.0->langextract) (5.5.2)\n",
            "Requirement already satisfied: pyasn1-modules>=0.2.1 in /usr/local/lib/python3.11/dist-packages (from google-auth<3.0.0,>=2.14.1->google-genai>=0.1.0->langextract) (0.4.2)\n",
            "Requirement already satisfied: rsa<5,>=3.1.4 in /usr/local/lib/python3.11/dist-packages (from google-auth<3.0.0,>=2.14.1->google-genai>=0.1.0->langextract) (4.9.1)\n",
            "Requirement already satisfied: httpcore==1.* in /usr/local/lib/python3.11/dist-packages (from httpx<1.0.0,>=0.28.1->google-genai>=0.1.0->langextract) (1.0.9)\n",
            "Requirement already satisfied: h11>=0.16 in /usr/local/lib/python3.11/dist-packages (from httpcore==1.*->httpx<1.0.0,>=0.28.1->google-genai>=0.1.0->langextract) (0.16.0)\n",
            "Requirement already satisfied: six>=1.5 in /usr/local/lib/python3.11/dist-packages (from python-dateutil>=2.8.2->pandas>=1.3.0->langextract) (1.17.0)\n",
            "Requirement already satisfied: pyasn1<0.7.0,>=0.6.1 in /usr/local/lib/python3.11/dist-packages (from pyasn1-modules>=0.2.1->google-auth<3.0.0,>=2.14.1->google-genai>=0.1.0->langextract) (0.6.1)\n",
            "Downloading langextract-1.0.5-py3-none-any.whl (62 kB)\n",
            "\u001b[2K   \u001b[90m━━━━━━━━━━━━━━━━━━━━━━━━━━━━━━━━━━━━━━━━\u001b[0m \u001b[32m62.7/62.7 kB\u001b[0m \u001b[31m5.9 MB/s\u001b[0m eta \u001b[36m0:00:00\u001b[0m\n",
            "\u001b[?25hDownloading async_timeout-5.0.1-py3-none-any.whl (6.2 kB)\n",
            "Downloading exceptiongroup-1.3.0-py3-none-any.whl (16 kB)\n",
            "Downloading ml_collections-1.1.0-py3-none-any.whl (76 kB)\n",
            "\u001b[2K   \u001b[90m━━━━━━━━━━━━━━━━━━━━━━━━━━━━━━━━━━━━━━━━\u001b[0m \u001b[32m76.7/76.7 kB\u001b[0m \u001b[31m9.2 MB/s\u001b[0m eta \u001b[36m0:00:00\u001b[0m\n",
            "\u001b[?25hDownloading python_dotenv-1.1.1-py3-none-any.whl (20 kB)\n",
            "Installing collected packages: python-dotenv, ml-collections, exceptiongroup, async_timeout, langextract\n",
            "Successfully installed async_timeout-5.0.1 exceptiongroup-1.3.0 langextract-1.0.5 ml-collections-1.1.0 python-dotenv-1.1.1\n"
          ]
        }
      ]
    },
    {
      "cell_type": "markdown",
      "source": [
        "<h5> Update package lists and install hardware info tools (pciutils, lshw)\n",
        "</h5>"
      ],
      "metadata": {
        "id": "9XljwkS1OIVW"
      }
    },
    {
      "cell_type": "code",
      "execution_count": null,
      "metadata": {
        "id": "nYT6VsbRGML1"
      },
      "outputs": [],
      "source": [
        "!sudo apt update && sudo apt install pciutils lshw"
      ]
    },
    {
      "cell_type": "markdown",
      "source": [
        "<h5> Download and run the Ollama installation script </h5>"
      ],
      "metadata": {
        "id": "boAwRU-KOUkL"
      }
    },
    {
      "cell_type": "code",
      "source": [
        "!curl -fsSL https://ollama.com/install.sh | sh"
      ],
      "metadata": {
        "colab": {
          "base_uri": "https://localhost:8080/"
        },
        "id": "26pG4MuZGja5",
        "outputId": "59421fd9-a4fd-49e4-ef8e-a933db7b67c7"
      },
      "execution_count": 1,
      "outputs": [
        {
          "output_type": "stream",
          "name": "stdout",
          "text": [
            ">>> Installing ollama to /usr/local\n",
            ">>> Downloading Linux amd64 bundle\n",
            "######################################################################## 100.0%\n",
            ">>> Creating ollama user...\n",
            ">>> Adding ollama user to video group...\n",
            ">>> Adding current user to ollama group...\n",
            ">>> Creating ollama systemd service...\n",
            "\u001b[1m\u001b[31mWARNING:\u001b[m systemd is not running\n",
            "\u001b[1m\u001b[31mWARNING:\u001b[m Unable to detect NVIDIA/AMD GPU. Install lspci or lshw to automatically detect and install GPU dependencies.\n",
            ">>> The Ollama API is now available at 127.0.0.1:11434.\n",
            ">>> Install complete. Run \"ollama\" from the command line.\n"
          ]
        }
      ]
    },
    {
      "cell_type": "markdown",
      "source": [
        "<h5> Start the Ollama server in the background and save logs to ollama.log </h5>"
      ],
      "metadata": {
        "id": "IyXlxQExOYaP"
      }
    },
    {
      "cell_type": "code",
      "source": [
        "!nohup ollama serve > ollama.log 2>&1 &"
      ],
      "metadata": {
        "id": "v5lPErJ-G4Kq"
      },
      "execution_count": 2,
      "outputs": []
    },
    {
      "cell_type": "code",
      "source": [
        "! ollama run gemma3:1b \"where is the Iran\""
      ],
      "metadata": {
        "colab": {
          "base_uri": "https://localhost:8080/"
        },
        "id": "q4_jYvwqG6a0",
        "outputId": "c50997c4-ba32-4367-980c-6c9bbd160965"
      },
      "execution_count": 26,
      "outputs": [
        {
          "output_type": "stream",
          "name": "stdout",
          "text": [
            "\u001b[?2026h\u001b[?25l\u001b[1G\u001b[?25h\u001b[?2026l\u001b[?2026h\u001b[?25l\u001b[1G\u001b[?25h\u001b[?2026l\u001b[?2026h\u001b[?25l\u001b[1G\u001b[?25h\u001b[?2026l\u001b[?2026h\u001b[?25l\u001b[1G\u001b[?25h\u001b[?2026l\u001b[?2026h\u001b[?25l\u001b[1G\u001b[?25h\u001b[?2026l\u001b[?2026h\u001b[?25l\u001b[1G\u001b[?25h\u001b[?2026l\u001b[?2026h\u001b[?25l\u001b[1G\u001b[?25h\u001b[?2026l\u001b[?2026h\u001b[?25l\u001b[1G\u001b[?25h\u001b[?2026l\u001b[?2026h\u001b[?25l\u001b[1G\u001b[?25h\u001b[?2026l\u001b[?2026h\u001b[?25l\u001b[1G\u001b[?25h\u001b[?2026l\u001b[?2026h\u001b[?25l\u001b[1G\u001b[?25h\u001b[?2026l\u001b[?2026h\u001b[?25l\u001b[1G\u001b[?25h\u001b[?2026l\u001b[?2026h\u001b[?25l\u001b[1G\u001b[?25h\u001b[?2026l\u001b[?2026h\u001b[?25l\u001b[1G\u001b[?25h\u001b[?2026l\u001b[?2026h\u001b[?25l\u001b[1G\u001b[?25h\u001b[?2026l\u001b[?2026h\u001b[?25l\u001b[1G\u001b[?25h\u001b[?2026l\u001b[?2026h\u001b[?25l\u001b[1G\u001b[?25h\u001b[?2026l\u001b[?2026h\u001b[?25l\u001b[1G\u001b[?25h\u001b[?2026l\u001b[?2026h\u001b[?25l\u001b[1G\u001b[?25h\u001b[?2026l\u001b[?2026h\u001b[?25l\u001b[1G\u001b[?25h\u001b[?2026l\u001b[?2026h\u001b[?25l\u001b[1G\u001b[?25h\u001b[?2026l\u001b[?2026h\u001b[?25l\u001b[1G\u001b[?25h\u001b[?2026l\u001b[?2026h\u001b[?25l\u001b[1G\u001b[?25h\u001b[?2026l\u001b[?2026h\u001b[?25l\u001b[1G\u001b[?25h\u001b[?2026l\u001b[?2026h\u001b[?25l\u001b[1G\u001b[?25h\u001b[?2026l\u001b[?2026h\u001b[?25l\u001b[1G\u001b[?25h\u001b[?2026l\u001b[?2026h\u001b[?25l\u001b[1G\u001b[?25h\u001b[?2026l\u001b[?2026h\u001b[?25l\u001b[1G\u001b[?25h\u001b[?2026l\u001b[?2026h\u001b[?25l\u001b[1G\u001b[?25h\u001b[?2026l\u001b[?2026h\u001b[?25l\u001b[1G\u001b[?25h\u001b[?2026l\u001b[?2026h\u001b[?25l\u001b[1G\u001b[?25h\u001b[?2026l\u001b[?2026h\u001b[?25l\u001b[1G\u001b[?25h\u001b[?2026l\u001b[?2026h\u001b[?25l\u001b[1G\u001b[?25h\u001b[?2026l\u001b[?2026h\u001b[?25l\u001b[1G\u001b[?25h\u001b[?2026l\u001b[?2026h\u001b[?25l\u001b[1G\u001b[?25h\u001b[?2026l\u001b[?2026h\u001b[?25l\u001b[1G\u001b[?25h\u001b[?2026l\u001b[?2026h\u001b[?25l\u001b[1G\u001b[?25h\u001b[?2026l\u001b[?2026h\u001b[?25l\u001b[1G\u001b[?25h\u001b[?2026l\u001b[?2026h\u001b[?25l\u001b[1G\u001b[?25h\u001b[?2026l\u001b[?2026h\u001b[?25l\u001b[1G\u001b[?25h\u001b[?2026l\u001b[?2026h\u001b[?25l\u001b[1G\u001b[?25h\u001b[?2026l\u001b[?2026h\u001b[?25l\u001b[1G\u001b[?25h\u001b[?2026l\u001b[?2026h\u001b[?25l\u001b[1G\u001b[?25h\u001b[?2026l\u001b[?2026h\u001b[?25l\u001b[1G\u001b[?25h\u001b[?2026l\u001b[?2026h\u001b[?25l\u001b[1G\u001b[?25h\u001b[?2026l\u001b[?2026h\u001b[?25l\u001b[1G\u001b[?25h\u001b[?2026l\u001b[?2026h\u001b[?25l\u001b[1G\u001b[?25h\u001b[?2026l\u001b[?2026h\u001b[?25l\u001b[1G\u001b[?25h\u001b[?2026l\u001b[?2026h\u001b[?25l\u001b[1G\u001b[?25h\u001b[?2026l\u001b[?2026h\u001b[?25l\u001b[1G\u001b[?25h\u001b[?2026l\u001b[?2026h\u001b[?25l\u001b[1G\u001b[?25h\u001b[?2026l\u001b[?2026h\u001b[?25l\u001b[1G\u001b[?25h\u001b[?2026l\u001b[?2026h\u001b[?25l\u001b[1G\u001b[?25h\u001b[?2026l\u001b[?2026h\u001b[?25l\u001b[1G\u001b[?25h\u001b[?2026l\u001b[?2026h\u001b[?25l\u001b[1G\u001b[?25h\u001b[?2026l\u001b[?2026h\u001b[?25l\u001b[1G\u001b[?25h\u001b[?2026l\u001b[?2026h\u001b[?25l\u001b[1G\u001b[?25h\u001b[?2026l\u001b[?2026h\u001b[?25l\u001b[1G\u001b[?25h\u001b[?2026l\u001b[?2026h\u001b[?25l\u001b[1G\u001b[?25h\u001b[?2026l\u001b[?2026h\u001b[?25l\u001b[1G\u001b[?25h\u001b[?2026l\u001b[?2026h\u001b[?25l\u001b[1G\u001b[?25h\u001b[?2026l\u001b[?2026h\u001b[?25l\u001b[1G\u001b[?25h\u001b[?2026l\u001b[?2026h\u001b[?25l\u001b[1G\u001b[?25h\u001b[?2026l\u001b[?2026h\u001b[?25l\u001b[1G\u001b[?25h\u001b[?2026l\u001b[?2026h\u001b[?25l\u001b[1G\u001b[?25h\u001b[?2026l\u001b[?2026h\u001b[?25l\u001b[1G\u001b[?25h\u001b[?2026l\u001b[?2026h\u001b[?25l\u001b[1G\u001b[?25h\u001b[?2026l\u001b[?2026h\u001b[?25l\u001b[1G\u001b[?25h\u001b[?2026l\u001b[?2026h\u001b[?25l\u001b[1G\u001b[?25h\u001b[?2026l\u001b[?2026h\u001b[?25l\u001b[1G\u001b[?25h\u001b[?2026l\u001b[?2026h\u001b[?25l\u001b[1G\u001b[?25h\u001b[?2026l\u001b[?25l\u001b[?2026h\u001b[?25l\u001b[1G\u001b[?25h\u001b[?2026l\u001b[2K\u001b[1G\u001b[?25hOkay\u001b[?25l\u001b[?25h,\u001b[?25l\u001b[?25h let\u001b[?25l\u001b[?25h'\u001b[?25l\u001b[?25hs\u001b[?25l\u001b[?25h break\u001b[?25l\u001b[?25h down\u001b[?25l\u001b[?25h where\u001b[?25l\u001b[?25h Iran\u001b[?25l\u001b[?25h is\u001b[?25l\u001b[?25h!\u001b[?25l\u001b[?25h It\u001b[?25l\u001b[?25h’\u001b[?25l\u001b[?25hs\u001b[?25l\u001b[?25h a\u001b[?25l\u001b[?25h hugely\u001b[?25l\u001b[?25h significant\u001b[?25l\u001b[?25h and\u001b[?25l\u001b[?25h complex\u001b[?25l\u001b[?25h country\u001b[?25l\u001b[?25h,\u001b[?25l\u001b[?25h and\u001b[?25l\u001b[?25h its\u001b[?25l\u001b[?25h location\u001b[?25l\u001b[?25h is\u001b[?25l\u001b[?25h quite\u001b[?25l\u001b[?25h unique\u001b[?25l\u001b[?25h.\u001b[?25l\u001b[?25h Here\u001b[?25l\u001b[?25h'\u001b[?25l\u001b[?25hs\u001b[?25l\u001b[?25h a\u001b[?25l\u001b[?25h breakdown\u001b[?25l\u001b[?25h of\u001b[?25l\u001b[?25h its\u001b[?25l\u001b[?25h geographical\u001b[?25l\u001b[?25h location\u001b[?25l\u001b[?25h:\u001b[?25l\u001b[?25h\n",
            "\n",
            "\u001b[?25l\u001b[?25h**\u001b[?25l\u001b[?25h1\u001b[?25l\u001b[?25h.\u001b[?25l\u001b[?25h Officially\u001b[?25l\u001b[?25h Recognized\u001b[?25l\u001b[?25h Borders\u001b[?25l\u001b[?25h:**\u001b[?25l\u001b[?25h\n",
            "\n",
            "\u001b[?25l\u001b[?25h*\u001b[?25l\u001b[?25h **\u001b[?25l\u001b[?25hWestern\u001b[?25l\u001b[?25h:**\u001b[?25l\u001b[?25h Primarily\u001b[?25l\u001b[?25h through\u001b[?25l\u001b[?25h Iran\u001b[?25l\u001b[?25h'\u001b[?25l\u001b[?25hs\u001b[?25l\u001b[?25h Western\u001b[?25l\u001b[?25h borders\u001b[?25l\u001b[?25h,\u001b[?25l\u001b[?25h which\u001b[?25l\u001b[?25h stretch\u001b[?25l\u001b[?25h across\u001b[?25l\u001b[?25h the\u001b[?25l\u001b[?25h Caspian\u001b[?25l\u001b[?25h Sea\u001b[?25l\u001b[?25h.\u001b[?25l\u001b[?25h\n",
            "\u001b[?25l\u001b[?25h*\u001b[?25l\u001b[?25h **\u001b[?25l\u001b[?25hEastern\u001b[?25l\u001b[?25h:**\u001b[?25l\u001b[?25h  \u001b[?25l\u001b[?25hThe\u001b[?25l\u001b[?25h majority\u001b[?25l\u001b[?25h of\u001b[?25l\u001b[?25h Iran\u001b[?25l\u001b[?25h’\u001b[?25l\u001b[?25hs\u001b[?25l\u001b[?25h territory\u001b[?25l\u001b[?25h lies\u001b[?25l\u001b[?25h within\u001b[?25l\u001b[?25h its\u001b[?25l\u001b[?25h Eastern\u001b[?25l\u001b[?25h borders\u001b[?25l\u001b[?25h,\u001b[?25l\u001b[?25h encompassing\u001b[?25l\u001b[?25h most\u001b[?25l\u001b[?25h of\u001b[?25l\u001b[?25h what\u001b[?25l\u001b[?25h'\u001b[?25l\u001b[?25hs\u001b[?25l\u001b[?25h commonly\u001b[?25l\u001b[?25h known\u001b[?25l\u001b[?25h as\u001b[?25l\u001b[?25h “\u001b[?25l\u001b[?25hIran\u001b[?25l\u001b[?25h.”\u001b[?25l\u001b[?25h\n",
            "\n",
            "\u001b[?25l\u001b[?25h**\u001b[?25l\u001b[?25h2\u001b[?25l\u001b[?25h.\u001b[?25l\u001b[?25h Geographic\u001b[?25l\u001b[?25h Features\u001b[?25l\u001b[?25h:**\u001b[?25l\u001b[?25h\n",
            "\n",
            "\u001b[?25l\u001b[?25h*\u001b[?25l\u001b[?25h **\u001b[?25l\u001b[?25hLocation\u001b[?25l\u001b[?25h:**\u001b[?25l\u001b[?25h Situated\u001b[?25l\u001b[?25h in\u001b[?25l\u001b[?25h Western\u001b[?25l\u001b[?25h Asia\u001b[?25l\u001b[?25h,\u001b[?25l\u001b[?25h bordering\u001b[?25l\u001b[?25h several\u001b[?25l\u001b[?25h countries\u001b[?25l\u001b[?25h:\u001b[?25l\u001b[?25h\n",
            "\u001b[?25l\u001b[?25h    \u001b[?25l\u001b[?25h*\u001b[?25l\u001b[?25h **\u001b[?25l\u001b[?25hPers\u001b[?25l\u001b[?25hian\u001b[?25l\u001b[?25h Gulf\u001b[?25l\u001b[?25h:**\u001b[?25l\u001b[?25h Borders\u001b[?25l\u001b[?25h Iraq\u001b[?25l\u001b[?25h,\u001b[?25l\u001b[?25h Kuwait\u001b[?25l\u001b[?25h,\u001b[?25l\u001b[?25h Qatar\u001b[?25l\u001b[?25h,\u001b[?25l\u001b[?25h and\u001b[?25l\u001b[?25h Saudi\u001b[?25l\u001b[?25h Arabia\u001b[?25l\u001b[?25h.\u001b[?25l\u001b[?25h\n",
            "\u001b[?25l\u001b[?25h    \u001b[?25l\u001b[?25h*\u001b[?25l\u001b[?25h **\u001b[?25l\u001b[?25hArm\u001b[?25l\u001b[?25henia\u001b[?25l\u001b[?25h:**\u001b[?25l\u001b[?25h To\u001b[?25l\u001b[?25h the\u001b[?25l\u001b[?25h north\u001b[?25l\u001b[?25h and\u001b[?25l\u001b[?25h northeast\u001b[?25l\u001b[?25h.\u001b[?25l\u001b[?25h\n",
            "\u001b[?25l\u001b[?25h    \u001b[?25l\u001b[?25h*\u001b[?25l\u001b[?25h **\u001b[?25l\u001b[?25hAzer\u001b[?25l\u001b[?25hbai\u001b[?25l\u001b[?25hjan\u001b[?25l\u001b[?25h:**\u001b[?25l\u001b[?25h To\u001b[?25l\u001b[?25h the\u001b[?25l\u001b[?25h south\u001b[?25l\u001b[?25h.\u001b[?25l\u001b[?25h\n",
            "\u001b[?25l\u001b[?25h    \u001b[?25l\u001b[?25h*\u001b[?25l\u001b[?25h **\u001b[?25l\u001b[?25hTur\u001b[?25l\u001b[?25hk\u001b[?25l\u001b[?25hmen\u001b[?25l\u001b[?25histan\u001b[?25l\u001b[?25h:**\u001b[?25l\u001b[?25h To\u001b[?25l\u001b[?25h the\u001b[?25l\u001b[?25h west\u001b[?25l\u001b[?25h.\u001b[?25l\u001b[?25h\n",
            "\u001b[?25l\u001b[?25h    \u001b[?25l\u001b[?25h*\u001b[?25l\u001b[?25h **\u001b[?25l\u001b[?25hAfghanistan\u001b[?25l\u001b[?25h:**\u001b[?25l\u001b[?25h To\u001b[?25l\u001b[?25h the\u001b[?25l\u001b[?25h east\u001b[?25l\u001b[?25h.\u001b[?25l\u001b[?25h\n",
            "\u001b[?25l\u001b[?25h    \u001b[?25l\u001b[?25h*\u001b[?25l\u001b[?25h **\u001b[?25l\u001b[?25hIraq\u001b[?25l\u001b[?25h:**\u001b[?25l\u001b[?25h To\u001b[?25l\u001b[?25h the\u001b[?25l\u001b[?25h southeast\u001b[?25l\u001b[?25h.\u001b[?25l\u001b[?25h\n",
            "\u001b[?25l\u001b[?25h    \u001b[?25l\u001b[?25h*\u001b[?25l\u001b[?25h **\u001b[?25l\u001b[?25hJordan\u001b[?25l\u001b[?25h:**\u001b[?25l\u001b[?25h To\u001b[?25l\u001b[?25h the\u001b[?25l\u001b[?25h south\u001b[?25l\u001b[?25h.\u001b[?25l\u001b[?25h\n",
            "\u001b[?25l\u001b[?25h*\u001b[?25l\u001b[?25h **\u001b[?25l\u001b[?25hLandscape\u001b[?25l\u001b[?25h:**\u001b[?25l\u001b[?25h  \u001b[?25l\u001b[?25hA\u001b[?25l\u001b[?25h relatively\u001b[?25l\u001b[?25h varied\u001b[?25l\u001b[?25h landscape\u001b[?25l\u001b[?25h,\u001b[?25l\u001b[?25h including\u001b[?25l\u001b[?25h:\u001b[?25l\u001b[?25h\n",
            "\u001b[?25l\u001b[?25h    \u001b[?25l\u001b[?25h*\u001b[?25l\u001b[?25h **\u001b[?25l\u001b[?25hDesert\u001b[?25l\u001b[?25h:**\u001b[?25l\u001b[?25h  \u001b[?25l\u001b[?25hA\u001b[?25l\u001b[?25h large\u001b[?25l\u001b[?25h portion\u001b[?25l\u001b[?25h of\u001b[?25l\u001b[?25h the\u001b[?25l\u001b[?25h country\u001b[?25l\u001b[?25h is\u001b[?25l\u001b[?25h desert\u001b[?25l\u001b[?25h,\u001b[?25l\u001b[?25h especially\u001b[?25l\u001b[?25h in\u001b[?25l\u001b[?25h the\u001b[?25l\u001b[?25h northwest\u001b[?25l\u001b[?25h.\u001b[?25l\u001b[?25h\n",
            "\u001b[?25l\u001b[?25h    \u001b[?25l\u001b[?25h*\u001b[?25l\u001b[?25h **\u001b[?25l\u001b[?25hC\u001b[?25l\u001b[?25hasp\u001b[?25l\u001b[?25hian\u001b[?25l\u001b[?25h Sea\u001b[?25l\u001b[?25h:**\u001b[?25l\u001b[?25h A\u001b[?25l\u001b[?25h massive\u001b[?25l\u001b[?25h inland\u001b[?25l\u001b[?25h sea\u001b[?25l\u001b[?25h,\u001b[?25l\u001b[?25h a\u001b[?25l\u001b[?25h crucial\u001b[?25l\u001b[?25h part\u001b[?25l\u001b[?25h of\u001b[?25l\u001b[?25h its\u001b[?25l\u001b[?25h geography\u001b[?25l\u001b[?25h and\u001b[?25l\u001b[?25h climate\u001b[?25l\u001b[?25h.\u001b[?25l\u001b[?25h\n",
            "\u001b[?25l\u001b[?25h    \u001b[?25l\u001b[?25h*\u001b[?25l\u001b[?25h **\u001b[?25l\u001b[?25hMountains\u001b[?25l\u001b[?25h:**\u001b[?25l\u001b[?25h The\u001b[?25l\u001b[?25h Zag\u001b[?25l\u001b[?25hros\u001b[?25l\u001b[?25h Mountains\u001b[?25l\u001b[?25h run\u001b[?25l\u001b[?25h through\u001b[?25l\u001b[?25h the\u001b[?25l\u001b[?25h north\u001b[?25l\u001b[?25h,\u001b[?25l\u001b[?25h and\u001b[?25l\u001b[?25h the\u001b[?25l\u001b[?25h Al\u001b[?25l\u001b[?25hbor\u001b[?25l\u001b[?25hz\u001b[?25l\u001b[?25h Mountains\u001b[?25l\u001b[?25h dominate\u001b[?25l\u001b[?25h the\u001b[?25l\u001b[?25h central\u001b[?25l\u001b[?25h region\u001b[?25l\u001b[?25h.\u001b[?25l\u001b[?25h\n",
            "\u001b[?25l\u001b[?25h    \u001b[?25l\u001b[?25h*\u001b[?25l\u001b[?25h **\u001b[?25l\u001b[?25hPl\u001b[?25l\u001b[?25hains\u001b[?25l\u001b[?25h:**\u001b[?25l\u001b[?25h The\u001b[?25l\u001b[?25h Iranian\u001b[?25l\u001b[?25h高原\u001b[?25l\u001b[?25h (\u001b[?25l\u001b[?25hCentral\u001b[?25l\u001b[?25h Plateau\u001b[?25l\u001b[?25h)\u001b[?25l\u001b[?25h is\u001b[?25l\u001b[?25h a\u001b[?25l\u001b[?25h large\u001b[?25l\u001b[?25h,\u001b[?25l\u001b[?25h flat\u001b[?25l\u001b[?25h area\u001b[?25l\u001b[?25h.\u001b[?25l\u001b[?25h\n",
            "\u001b[?25l\u001b[?25h*\u001b[?25l\u001b[?25h **\u001b[?25l\u001b[?25hClimate\u001b[?25l\u001b[?25h:**\u001b[?25l\u001b[?25h Diverse\u001b[?25l\u001b[?25h –\u001b[?25l\u001b[?25h ranging\u001b[?25l\u001b[?25h from\u001b[?25l\u001b[?25h subtropical\u001b[?25l\u001b[?25h in\u001b[?25l\u001b[?25h the\u001b[?25l\u001b[?25h south\u001b[?25l\u001b[?25h to\u001b[?25l\u001b[?25h temperate\u001b[?25l\u001b[?25h in\u001b[?25l\u001b[?25h the\u001b[?25l\u001b[?25h north\u001b[?25l\u001b[?25h.\u001b[?25l\u001b[?25h  \u001b[?25l\u001b[?25hIt\u001b[?25l\u001b[?25h experiences\u001b[?25l\u001b[?25h extremes\u001b[?25l\u001b[?25h in\u001b[?25l\u001b[?25h temperature\u001b[?25l\u001b[?25h.\u001b[?25l\u001b[?25h\n",
            "\n",
            "\u001b[?25l\u001b[?25h**\u001b[?25l\u001b[?25h3\u001b[?25l\u001b[?25h.\u001b[?25l\u001b[?25h Key\u001b[?25l\u001b[?25h Cities\u001b[?25l\u001b[?25h:**\u001b[?25l\u001b[?25h\n",
            "\n",
            "\u001b[?25l\u001b[?25h*\u001b[?25l\u001b[?25h **\u001b[?25l\u001b[?25hTe\u001b[?25l\u001b[?25hhran\u001b[?25l\u001b[?25h:**\u001b[?25l\u001b[?25h The\u001b[?25l\u001b[?25h capital\u001b[?25l\u001b[?25h and\u001b[?25l\u001b[?25h largest\u001b[?25l\u001b[?25h city\u001b[?25l\u001b[?25h,\u001b[?25l\u001b[?25h a\u001b[?25l\u001b[?25h major\u001b[?25l\u001b[?25h center\u001b[?25l\u001b[?25h of\u001b[?25l\u001b[?25h culture\u001b[?25l\u001b[?25h and\u001b[?25l\u001b[?25h politics\u001b[?25l\u001b[?25h.\u001b[?25l\u001b[?25h\n",
            "\u001b[?25l\u001b[?25h*\u001b[?25l\u001b[?25h **\u001b[?25l\u001b[?25hIs\u001b[?25l\u001b[?25hf\u001b[?25l\u001b[?25hahan\u001b[?25l\u001b[?25h:**\u001b[?25l\u001b[?25h A\u001b[?25l\u001b[?25h historical\u001b[?25l\u001b[?25h city\u001b[?25l\u001b[?25h known\u001b[?25l\u001b[?25h for\u001b[?25l\u001b[?25h its\u001b[?25l\u001b[?25h stunning\u001b[?25l\u001b[?25h mosques\u001b[?25l\u001b[?25h and\u001b[?25l\u001b[?25h palaces\u001b[?25l\u001b[?25h.\u001b[?25l\u001b[?25h\n",
            "\u001b[?25l\u001b[?25h*\u001b[?25l\u001b[?25h **\u001b[?25l\u001b[?25hKar\u001b[?25l\u001b[?25hab\u001b[?25l\u001b[?25hakh\u001b[?25l\u001b[?25h:**\u001b[?25l\u001b[?25h  \u001b[?25l\u001b[?25hOnce\u001b[?25l\u001b[?25h part\u001b[?25l\u001b[?25h of\u001b[?25l\u001b[?25h the\u001b[?25l\u001b[?25h Soviet\u001b[?25l\u001b[?25h Union\u001b[?25l\u001b[?25h,\u001b[?25l\u001b[?25h it\u001b[?25l\u001b[?25h’\u001b[?25l\u001b[?25hs\u001b[?25l\u001b[?25h now\u001b[?25l\u001b[?25h part\u001b[?25l\u001b[?25h of\u001b[?25l\u001b[?25h Iran\u001b[?25l\u001b[?25h.\u001b[?25l\u001b[?25h\n",
            "\u001b[?25l\u001b[?25h*\u001b[?25l\u001b[?25h **\u001b[?25l\u001b[?25hBus\u001b[?25l\u001b[?25hhe\u001b[?25l\u001b[?25hhr\u001b[?25l\u001b[?25h:**\u001b[?25l\u001b[?25h A\u001b[?25l\u001b[?25h major\u001b[?25l\u001b[?25h port\u001b[?25l\u001b[?25h city\u001b[?25l\u001b[?25h on\u001b[?25l\u001b[?25h the\u001b[?25l\u001b[?25h Persian\u001b[?25l\u001b[?25h Gulf\u001b[?25l\u001b[?25h.\u001b[?25l\u001b[?25h\n",
            "\u001b[?25l\u001b[?25h*\u001b[?25l\u001b[?25h **\u001b[?25l\u001b[?25hMash\u001b[?25l\u001b[?25hhad\u001b[?25l\u001b[?25h:**\u001b[?25l\u001b[?25h Famous\u001b[?25l\u001b[?25h for\u001b[?25l\u001b[?25h its\u001b[?25l\u001b[?25h Imam\u001b[?25l\u001b[?25h Reza\u001b[?25l\u001b[?25h Shrine\u001b[?25l\u001b[?25h.\u001b[?25l\u001b[?25h\n",
            "\n",
            "\u001b[?25l\u001b[?25h**\u001b[?25l\u001b[?25h4\u001b[?25l\u001b[?25h.\u001b[?25l\u001b[?25h  \u001b[?25l\u001b[?25hImportant\u001b[?25l\u001b[?25h Points\u001b[?25l\u001b[?25h to\u001b[?25l\u001b[?25h Note\u001b[?25l\u001b[?25h:**\u001b[?25l\u001b[?25h\n",
            "\n",
            "\u001b[?25l\u001b[?25h*\u001b[?25l\u001b[?25h **\u001b[?25l\u001b[?25hThe\u001b[?25l\u001b[?25h Iran\u001b[?25l\u001b[?25h-\u001b[?25l\u001b[?25hIraq\u001b[?25l\u001b[?25h War\u001b[?25l\u001b[?25h (\u001b[?25l\u001b[?25h1\u001b[?25l\u001b[?25h9\u001b[?25l\u001b[?25h8\u001b[?25l\u001b[?25h0\u001b[?25l\u001b[?25h-\u001b[?25l\u001b[?25h1\u001b[?25l\u001b[?25h9\u001b[?25l\u001b[?25h8\u001b[?25l\u001b[?25h8\u001b[?25l\u001b[?25h):\u001b[?25l\u001b[?25h**\u001b[?25l\u001b[?25h This\u001b[?25l\u001b[?25h war\u001b[?25l\u001b[?25h significantly\u001b[?25l\u001b[?25h shaped\u001b[?25l\u001b[?25h Iran\u001b[?25l\u001b[?25h'\u001b[?25l\u001b[?25hs\u001b[?25l\u001b[?25h geography\u001b[?25l\u001b[?25h and\u001b[?25l\u001b[?25h political\u001b[?25l\u001b[?25h landscape\u001b[?25l\u001b[?25h.\u001b[?25l\u001b[?25h It\u001b[?25l\u001b[?25h led\u001b[?25l\u001b[?25h to\u001b[?25l\u001b[?25h extensive\u001b[?25l\u001b[?25h damage\u001b[?25l\u001b[?25h to\u001b[?25l\u001b[?25h the\u001b[?25l\u001b[?25h landscape\u001b[?25l\u001b[?25h and\u001b[?25l\u001b[?25h had\u001b[?25l\u001b[?25h a\u001b[?25l\u001b[?25h lasting\u001b[?25l\u001b[?25h impact\u001b[?25l\u001b[?25h on\u001b[?25l\u001b[?25h the\u001b[?25l\u001b[?25h region\u001b[?25l\u001b[?25h.\u001b[?25l\u001b[?25h\n",
            "\u001b[?25l\u001b[?25h*\u001b[?25l\u001b[?25h **\u001b[?25l\u001b[?25hIslamic\u001b[?25l\u001b[?25h Influence\u001b[?25l\u001b[?25h:**\u001b[?25l\u001b[?25h A\u001b[?25l\u001b[?25h vast\u001b[?25l\u001b[?25h portion\u001b[?25l\u001b[?25h of\u001b[?25l\u001b[?25h Iran\u001b[?25l\u001b[?25h'\u001b[?25l\u001b[?25hs\u001b[?25l\u001b[?25h territory\u001b[?25l\u001b[?25h is\u001b[?25l\u001b[?25h historically\u001b[?25l\u001b[?25h and\u001b[?25l\u001b[?25h culturally\u001b[?25l\u001b[?25h defined\u001b[?25l\u001b[?25h by\u001b[?25l\u001b[?25h its\u001b[?25l\u001b[?25h Islamic\u001b[?25l\u001b[?25h heritage\u001b[?25l\u001b[?25h.\u001b[?25l\u001b[?25h\n",
            "\n",
            "\u001b[?25l\u001b[?25h**\u001b[?25l\u001b[?25hResources\u001b[?25l\u001b[?25h for\u001b[?25l\u001b[?25h Further\u001b[?25l\u001b[?25h Learning\u001b[?25l\u001b[?25h:**\u001b[?25l\u001b[?25h\n",
            "\n",
            "\u001b[?25l\u001b[?25h*\u001b[?25l\u001b[?25h **\u001b[?25l\u001b[?25hWikipedia\u001b[?25l\u001b[?25h -\u001b[?25l\u001b[?25h Iran\u001b[?25l\u001b[?25h:**\u001b[?25l\u001b[?25h [\u001b[?25l\u001b[?25hhttps\u001b[?25l\u001b[?25h://\u001b[?25l\u001b[?25hen\u001b[?25l\u001b[?25h.\u001b[?25l\u001b[?25hwikipedia\u001b[?25l\u001b[?25h.\u001b[?25l\u001b[?25horg\u001b[?25l\u001b[?25h/\u001b[?25l\u001b[?25hwiki\u001b[?25l\u001b[?25h/\u001b[?25l\u001b[?25hIran\u001b[?25l\u001b[?25h](\u001b[?25l\u001b[?25hhttps\u001b[?25l\u001b[?25h://\u001b[?25l\u001b[?25hen\u001b[?25l\u001b[?25h.\u001b[?25l\u001b[?25hwikipedia\u001b[?25l\u001b[?25h.\u001b[?25l\u001b[?25horg\u001b[?25l\u001b[?25h/\u001b[?25l\u001b[?25hwiki\u001b[?25l\u001b[?25h/\u001b[?25l\u001b[?25hIran\u001b[?25l\u001b[?25h)\u001b[?25l\u001b[?25h\n",
            "\u001b[?25l\u001b[?25h*\u001b[?25l\u001b[?25h **\u001b[?25l\u001b[?25hCIA\u001b[?25l\u001b[?25h World\u001b[?25l\u001b[?25h Fact\u001b[?25l\u001b[?25hbook\u001b[?25l\u001b[?25h -\u001b[?25l\u001b[?25h Iran\u001b[?25l\u001b[?25h:**\u001b[?25l\u001b[?25h [\u001b[?25l\u001b[?25hhttps\u001b[?25l\u001b[?25h://\u001b[?25l\u001b[?25hwww\u001b[?25l\u001b[?25h.\u001b[?25l\u001b[?25hcia\u001b[?25l\u001b[?25h.\u001b[?25l\u001b[?25hgov\u001b[?25l\u001b[?25h/\u001b[?25l\u001b[?25hthe\u001b[?25l\u001b[?25h-\u001b[?25l\u001b[?25hworld\u001b[?25l\u001b[?25h-\u001b[?25l\u001b[?25hfact\u001b[?25l\u001b[?25h-\u001b[?25l\u001b[?25hbook\u001b[?25l\u001b[?25h/\u001b[?25l\u001b[?25hcountry\u001b[?25l\u001b[?25h-\u001b[?25l\u001b[?25hprofiles\u001b[?25l\u001b[?25h/\u001b[?25l\u001b[?25hiran\u001b[?25l\u001b[?25h](\u001b[?25l\u001b[?25hhttps\u001b[?25l\u001b[?25h://\u001b[?25l\u001b[?25hwww\u001b[?25l\u001b[?25h.\u001b[?25l\u001b[?25hcia\u001b[?25l\u001b[?25h.\u001b[?25l\u001b[?25hgov\u001b[?25l\u001b[?25h/\u001b[?25l\u001b[?25hthe\u001b[?25l\u001b[?25h-\u001b[?25l\u001b[?25hworld\u001b[?25l\u001b[?25h-\u001b[?25l\u001b[?25hfact\u001b[?25l\u001b[?25h-\u001b[?25l\u001b[?25hbook\u001b[?25l\u001b[?25h/\u001b[?25l\u001b[?25hcountry\u001b[?25l\u001b[?25h-\u001b[?25l\u001b[?25hprofiles\u001b[?25l\u001b[?25h/\u001b[?25l\u001b[?25hiran\u001b[?25l\u001b[?25h)\u001b[?25l\u001b[?25h\n",
            "\n",
            "\n",
            "\u001b[?25l\u001b[?25h---\u001b[?25l\u001b[?25h\n",
            "\n",
            "\u001b[?25l\u001b[?25hDo\u001b[?25l\u001b[?25h you\u001b[?25l\u001b[?25h want\u001b[?25l\u001b[?25h me\u001b[?25l\u001b[?25h to\u001b[?25l\u001b[?25h delve\u001b[?25l\u001b[?25h deeper\u001b[?25l\u001b[?25h into\u001b[?25l\u001b[?25h any\u001b[?25l\u001b[?25h specific\u001b[?25l\u001b[?25h aspect\u001b[?25l\u001b[?25h of\u001b[?25l\u001b[?25h Iran\u001b[?25l\u001b[?25h'\u001b[?25l\u001b[?25hs\u001b[?25l\u001b[?25h location\u001b[?25l\u001b[?25h,\u001b[?25l\u001b[?25h such\u001b[?25l\u001b[?25h as\u001b[?25l\u001b[?25h:\u001b[?25l\u001b[?25h\n",
            "\n",
            "\u001b[?25l\u001b[?25h*\u001b[?25l\u001b[?25h   \u001b[?25l\u001b[?25hIts\u001b[?25l\u001b[?25h history\u001b[?25l\u001b[?25h?\u001b[?25l\u001b[?25h\n",
            "\u001b[?25l\u001b[?25h*\u001b[?25l\u001b[?25h   \u001b[?25l\u001b[?25hIts\u001b[?25l\u001b[?25h culture\u001b[?25l\u001b[?25h?\u001b[?25l\u001b[?25h\n",
            "\u001b[?25l\u001b[?25h*\u001b[?25l\u001b[?25h   \u001b[?25l\u001b[?25hIts\u001b[?25l\u001b[?25h geopolitical\u001b[?25l\u001b[?25h significance\u001b[?25l\u001b[?25h?\u001b[?25l\u001b[?25h\n",
            "\n",
            "\u001b[?25l\u001b[?25h"
          ]
        }
      ]
    },
    {
      "cell_type": "code",
      "source": [
        "import textwrap\n",
        "import langextract as lx\n",
        "\n",
        "# 1. Define the prompt and extraction rules\n",
        "prompt = textwrap.dedent(\"\"\"\\\n",
        "    Extract persons, charges, and legal relationships from the text in order of appearance.\n",
        "    Use the exact original text for extraction. Do not paraphrase or summarize.\n",
        "    For each entity, add relevant attributes and a brief explanation.\"\"\")\n",
        "\n",
        "# 2. (Few-shot Example)\n",
        "examples = [\n",
        "    lx.data.ExampleData(\n",
        "        text=\"Mr. Mohammad Hosseini is accused of embezzling 500 million rials from Company A on May 25, 2024.\",\n",
        "        extractions=[\n",
        "            lx.data.Extraction(\n",
        "                extraction_class=\"person\",\n",
        "                extraction_text=\"Mr. Mohammad Hosseini\",\n",
        "                attributes={\"role\": \"accused\"}\n",
        "            ),\n",
        "            lx.data.Extraction(\n",
        "                extraction_class=\"charge\",\n",
        "                extraction_text=\"embezzlement\",\n",
        "                attributes={\"amount\": \"500 million rials\"}\n",
        "            ),\n",
        "            lx.data.Extraction(\n",
        "                extraction_class=\"legal relationship\",\n",
        "                extraction_text=\"from Company A\",\n",
        "                attributes={\"type\": \"work / financial relationship\"}\n",
        "            ),\n",
        "        ]\n",
        "    )\n",
        "]\n",
        "\n",
        "\n",
        "\n",
        "\n",
        "# 3. Input Text:\n",
        "input_text = \"Ms. Sara Rezaei, based on the lease agreement dated October 2, 2023, has rented an apartment unit to Mr. Hamid Karimi.\"\n",
        "\n",
        "\n",
        "\n",
        "result = lx.extract(\n",
        "    text_or_documents=input_text,\n",
        "    prompt_description=prompt,\n",
        "    examples=examples,\n",
        "    model_id=\"gemma3:1b\",\n",
        "    model_url=\"http://localhost:11434\",\n",
        "    language_model_type=lx.inference.OllamaLanguageModel,\n",
        "    language_model_params={\n",
        "    \"model\": \"gemma3:1b\",\n",
        "    \"base_url\": \"http://localhost:11434\"\n",
        "    }\n",
        ")\n",
        "\n",
        "\n",
        "\n",
        "print(result)\n",
        "\n"
      ],
      "metadata": {
        "colab": {
          "base_uri": "https://localhost:8080/"
        },
        "id": "MezBxVDlHWOR",
        "outputId": "4f51f41b-3dd8-4750-9af4-7bdefaeea877"
      },
      "execution_count": 22,
      "outputs": [
        {
          "output_type": "stream",
          "name": "stderr",
          "text": [
            "\u001b[94m\u001b[1mLangExtract\u001b[0m: Processing, current=\u001b[92m118\u001b[0m chars, processed=\u001b[92m118\u001b[0m chars:  [00:02]"
          ]
        },
        {
          "output_type": "stream",
          "name": "stdout",
          "text": [
            "\u001b[92m✓\u001b[0m Extraction processing complete\n",
            "\u001b[92m✓\u001b[0m Extracted \u001b[1m3\u001b[0m entities (\u001b[1m3\u001b[0m unique types)\n",
            "  \u001b[96m•\u001b[0m Time: \u001b[1m2.17s\u001b[0m\n",
            "  \u001b[96m•\u001b[0m Speed: \u001b[1m54\u001b[0m chars/sec\n",
            "  \u001b[96m•\u001b[0m Chunks: \u001b[1m1\u001b[0m\n",
            "AnnotatedDocument(extractions=[Extraction(extraction_class='person', extraction_text='Sara Rezaei', char_interval=CharInterval(start_pos=4, end_pos=15), alignment_status=<AlignmentStatus.MATCH_EXACT: 'match_exact'>, extraction_index=1, group_index=0, description=None, attributes={'role': 'renter'}), Extraction(extraction_class='charge', extraction_text='lease agreement', char_interval=CharInterval(start_pos=30, end_pos=45), alignment_status=<AlignmentStatus.MATCH_EXACT: 'match_exact'>, extraction_index=2, group_index=1, description=None, attributes={'date': 'October 2, 2023'}), Extraction(extraction_class='legal relationship', extraction_text='to Mr. Hamid Karimi', char_interval=CharInterval(start_pos=98, end_pos=117), alignment_status=<AlignmentStatus.MATCH_EXACT: 'match_exact'>, extraction_index=3, group_index=2, description=None, attributes={'type': 'rental agreement'})], text='Ms. Sara Rezaei, based on the lease agreement dated October 2, 2023, has rented an apartment unit to Mr. Hamid Karimi.')\n"
          ]
        },
        {
          "output_type": "stream",
          "name": "stderr",
          "text": [
            "\n"
          ]
        }
      ]
    },
    {
      "cell_type": "markdown",
      "source": [
        "<h5> Save the LangExtract extraction results to a JSONL file </h5>"
      ],
      "metadata": {
        "id": "_3sbJFYEOeC1"
      }
    },
    {
      "cell_type": "code",
      "source": [
        "lx.io.save_annotated_documents([result], output_name=\"/content/extraction_results.jsonl\")\n"
      ],
      "metadata": {
        "colab": {
          "base_uri": "https://localhost:8080/"
        },
        "id": "6Hd3xm-AI95W",
        "outputId": "df618ac1-2592-4e11-b8ef-454de33e1971"
      },
      "execution_count": 27,
      "outputs": [
        {
          "output_type": "stream",
          "name": "stderr",
          "text": [
            "\u001b[94m\u001b[1mLangExtract\u001b[0m: Saving to \u001b[92mextraction_results.jsonl\u001b[0m: 1 docs [00:00, 1220.69 docs/s]"
          ]
        },
        {
          "output_type": "stream",
          "name": "stdout",
          "text": [
            "\u001b[92m✓\u001b[0m Saved \u001b[1m1\u001b[0m documents to \u001b[92mextraction_results.jsonl\u001b[0m\n"
          ]
        },
        {
          "output_type": "stream",
          "name": "stderr",
          "text": [
            "\n"
          ]
        }
      ]
    },
    {
      "cell_type": "markdown",
      "source": [
        "<h5> Visualize the extraction results as an interactive HTML report </h5>"
      ],
      "metadata": {
        "id": "zvO8nHLlOik3"
      }
    },
    {
      "cell_type": "code",
      "source": [
        "from IPython.display import display, HTML, Javascript\n",
        "\n",
        "html = lx.visualize(\"/content/extraction_results.jsonl\")\n",
        "display(html)\n",
        "# Inject CSS to change background color\n",
        "display(HTML(\"\"\"\n",
        "<style>\n",
        "    body {\n",
        "        background-color: #f0f0f0 !important;  /* Light background color */\n",
        "        color: black !important;                /* Black text color */\n",
        "    }\n",
        "    /* If texts are inside specific elements, you can add them here */\n",
        "    .lx-text, .lx-annotation, .annotated-text {\n",
        "        color: black !important;\n",
        "    }\n",
        "</style>\n",
        "\"\"\"))\n"
      ],
      "metadata": {
        "colab": {
          "base_uri": "https://localhost:8080/",
          "height": 402
        },
        "id": "ouZDVJVyI_e9",
        "outputId": "1c078798-f7ae-4b02-8aee-4d87354aff8b"
      },
      "execution_count": 28,
      "outputs": [
        {
          "output_type": "stream",
          "name": "stderr",
          "text": [
            "\u001b[94m\u001b[1mLangExtract\u001b[0m: Loading \u001b[92mextraction_results.jsonl\u001b[0m: 100%|██████████| 966/966 [00:00<00:00, 2.60MB/s]"
          ]
        },
        {
          "output_type": "stream",
          "name": "stdout",
          "text": [
            "\u001b[92m✓\u001b[0m Loaded \u001b[1m1\u001b[0m documents from \u001b[92mextraction_results.jsonl\u001b[0m\n"
          ]
        },
        {
          "output_type": "stream",
          "name": "stderr",
          "text": [
            "\n"
          ]
        },
        {
          "output_type": "display_data",
          "data": {
            "text/plain": [
              "<IPython.core.display.HTML object>"
            ],
            "text/html": [
              "<style>\n",
              ".lx-highlight { position: relative; border-radius:3px; padding:1px 2px;}\n",
              ".lx-highlight .lx-tooltip {\n",
              "  visibility: hidden;\n",
              "  opacity: 0;\n",
              "  transition: opacity 0.2s ease-in-out;\n",
              "  background: #333;\n",
              "  color: #fff;\n",
              "  text-align: left;\n",
              "  border-radius: 4px;\n",
              "  padding: 6px 8px;\n",
              "  position: absolute;\n",
              "  z-index: 1000;\n",
              "  bottom: 125%;\n",
              "  left: 50%;\n",
              "  transform: translateX(-50%);\n",
              "  font-size: 12px;\n",
              "  max-width: 240px;\n",
              "  white-space: normal;\n",
              "  box-shadow: 0 2px 6px rgba(0,0,0,0.3);\n",
              "}\n",
              ".lx-highlight:hover .lx-tooltip { visibility: visible; opacity:1; }\n",
              ".lx-animated-wrapper { max-width: 100%; font-family: Arial, sans-serif; }\n",
              ".lx-controls {\n",
              "  background: #fafafa; border: 1px solid #90caf9; border-radius: 8px;\n",
              "  padding: 12px; margin-bottom: 16px;\n",
              "}\n",
              ".lx-button-row {\n",
              "  display: flex; justify-content: center; gap: 8px; margin-bottom: 12px;\n",
              "}\n",
              ".lx-control-btn {\n",
              "  background: #4285f4; color: white; border: none; border-radius: 4px;\n",
              "  padding: 8px 16px; cursor: pointer; font-size: 13px; font-weight: 500;\n",
              "  transition: background-color 0.2s;\n",
              "}\n",
              ".lx-control-btn:hover { background: #3367d6; }\n",
              ".lx-progress-container {\n",
              "  margin-bottom: 8px;\n",
              "}\n",
              ".lx-progress-slider {\n",
              "  width: 100%; margin: 0; appearance: none; height: 6px;\n",
              "  background: #ddd; border-radius: 3px; outline: none;\n",
              "}\n",
              ".lx-progress-slider::-webkit-slider-thumb {\n",
              "  appearance: none; width: 18px; height: 18px; background: #4285f4;\n",
              "  border-radius: 50%; cursor: pointer;\n",
              "}\n",
              ".lx-progress-slider::-moz-range-thumb {\n",
              "  width: 18px; height: 18px; background: #4285f4; border-radius: 50%;\n",
              "  cursor: pointer; border: none;\n",
              "}\n",
              ".lx-status-text {\n",
              "  text-align: center; font-size: 12px; color: #666; margin-top: 4px;\n",
              "}\n",
              ".lx-text-window {\n",
              "  font-family: monospace; white-space: pre-wrap; border: 1px solid #90caf9;\n",
              "  padding: 12px; max-height: 260px; overflow-y: auto; margin-bottom: 12px;\n",
              "  line-height: 1.6;\n",
              "}\n",
              ".lx-attributes-panel {\n",
              "  background: #fafafa; border: 1px solid #90caf9; border-radius: 6px;\n",
              "  padding: 8px 10px; margin-top: 8px; font-size: 13px;\n",
              "}\n",
              ".lx-current-highlight {\n",
              "  border-bottom: 4px solid #ff4444;\n",
              "  font-weight: bold;\n",
              "  animation: lx-pulse 1s ease-in-out;\n",
              "}\n",
              "@keyframes lx-pulse {\n",
              "  0% { text-decoration-color: #ff4444; }\n",
              "  50% { text-decoration-color: #ff0000; }\n",
              "  100% { text-decoration-color: #ff4444; }\n",
              "}\n",
              ".lx-legend {\n",
              "  font-size: 12px; margin-bottom: 8px;\n",
              "  padding-bottom: 8px; border-bottom: 1px solid #e0e0e0;\n",
              "}\n",
              ".lx-label {\n",
              "  display: inline-block;\n",
              "  padding: 2px 4px;\n",
              "  border-radius: 3px;\n",
              "  margin-right: 4px;\n",
              "  color: #000;\n",
              "}\n",
              ".lx-attr-key {\n",
              "  font-weight: 600;\n",
              "  color: #1565c0;\n",
              "  letter-spacing: 0.3px;\n",
              "}\n",
              ".lx-attr-value {\n",
              "  font-weight: 400;\n",
              "  opacity: 0.85;\n",
              "  letter-spacing: 0.2px;\n",
              "}\n",
              "\n",
              "/* Add optimizations with larger fonts and better readability for GIFs */\n",
              ".lx-gif-optimized .lx-text-window { font-size: 16px; line-height: 1.8; }\n",
              ".lx-gif-optimized .lx-attributes-panel { font-size: 15px; }\n",
              ".lx-gif-optimized .lx-current-highlight { text-decoration-thickness: 4px; }\n",
              "</style>\n",
              "<div class=\"lx-animated-wrapper lx-gif-optimized\">\n",
              "  <div class=\"lx-attributes-panel\">\n",
              "    <div class=\"lx-legend\">Highlights Legend: <span class=\"lx-label\" style=\"background-color:#D2E3FC;\">charge</span> <span class=\"lx-label\" style=\"background-color:#C8E6C9;\">legal relationship</span> <span class=\"lx-label\" style=\"background-color:#FEF0C3;\">person</span></div>\n",
              "    <div id=\"attributesContainer\"></div>\n",
              "  </div>\n",
              "  <div class=\"lx-text-window\" id=\"textWindow\">\n",
              "    Ms. <span class=\"lx-highlight lx-current-highlight\" data-idx=\"0\" style=\"background-color:#FEF0C3;\">Sara Rezaei</span>, based on the <span class=\"lx-highlight\" data-idx=\"1\" style=\"background-color:#D2E3FC;\">lease agreement</span> dated October 2, 2023, has rented an apartment unit <span class=\"lx-highlight\" data-idx=\"2\" style=\"background-color:#C8E6C9;\">to Mr. Hamid Karimi</span>.\n",
              "  </div>\n",
              "  <div class=\"lx-controls\">\n",
              "    <div class=\"lx-button-row\">\n",
              "      <button class=\"lx-control-btn\" onclick=\"playPause()\">▶️ Play</button>\n",
              "      <button class=\"lx-control-btn\" onclick=\"prevExtraction()\">⏮ Previous</button>\n",
              "      <button class=\"lx-control-btn\" onclick=\"nextExtraction()\">⏭ Next</button>\n",
              "    </div>\n",
              "    <div class=\"lx-progress-container\">\n",
              "      <input type=\"range\" id=\"progressSlider\" class=\"lx-progress-slider\"\n",
              "             min=\"0\" max=\"2\" value=\"0\"\n",
              "             onchange=\"jumpToExtraction(this.value)\">\n",
              "    </div>\n",
              "    <div class=\"lx-status-text\">\n",
              "      Entity <span id=\"entityInfo\">1/3</span> |\n",
              "      Pos <span id=\"posInfo\">[4-15]</span>\n",
              "    </div>\n",
              "  </div>\n",
              "</div>\n",
              "\n",
              "<script>\n",
              "  (function() {\n",
              "    const extractions = [{\"index\": 0, \"class\": \"person\", \"text\": \"Sara Rezaei\", \"color\": \"#FEF0C3\", \"startPos\": 4, \"endPos\": 15, \"beforeText\": \"Ms. \", \"extractionText\": \"Sara Rezaei\", \"afterText\": \", based on the lease agreement dated October 2, 2023, has rented an apartment unit to Mr. Hamid Karimi.\", \"attributesHtml\": \"<div><strong>class:</strong> person</div><div><strong>attributes:</strong> {<span class=\\\"lx-attr-key\\\">role</span>: <span class=\\\"lx-attr-value\\\">renter</span>}</div>\"}, {\"index\": 1, \"class\": \"charge\", \"text\": \"lease agreement\", \"color\": \"#D2E3FC\", \"startPos\": 30, \"endPos\": 45, \"beforeText\": \"Ms. Sara Rezaei, based on the \", \"extractionText\": \"lease agreement\", \"afterText\": \" dated October 2, 2023, has rented an apartment unit to Mr. Hamid Karimi.\", \"attributesHtml\": \"<div><strong>class:</strong> charge</div><div><strong>attributes:</strong> {<span class=\\\"lx-attr-key\\\">date</span>: <span class=\\\"lx-attr-value\\\">October 2, 2023</span>}</div>\"}, {\"index\": 2, \"class\": \"legal relationship\", \"text\": \"to Mr. Hamid Karimi\", \"color\": \"#C8E6C9\", \"startPos\": 98, \"endPos\": 117, \"beforeText\": \"Ms. Sara Rezaei, based on the lease agreement dated October 2, 2023, has rented an apartment unit \", \"extractionText\": \"to Mr. Hamid Karimi\", \"afterText\": \".\", \"attributesHtml\": \"<div><strong>class:</strong> legal relationship</div><div><strong>attributes:</strong> {<span class=\\\"lx-attr-key\\\">type</span>: <span class=\\\"lx-attr-value\\\">rental agreement</span>}</div>\"}];\n",
              "    let currentIndex = 0;\n",
              "    let isPlaying = false;\n",
              "    let animationInterval = null;\n",
              "    let animationSpeed = 1.0;\n",
              "\n",
              "    function updateDisplay() {\n",
              "      const extraction = extractions[currentIndex];\n",
              "      if (!extraction) return;\n",
              "\n",
              "      document.getElementById('attributesContainer').innerHTML = extraction.attributesHtml;\n",
              "      document.getElementById('entityInfo').textContent = (currentIndex + 1) + '/' + extractions.length;\n",
              "      document.getElementById('posInfo').textContent = '[' + extraction.startPos + '-' + extraction.endPos + ']';\n",
              "      document.getElementById('progressSlider').value = currentIndex;\n",
              "\n",
              "      const playBtn = document.querySelector('.lx-control-btn');\n",
              "      if (playBtn) playBtn.textContent = isPlaying ? '⏸ Pause' : '▶️ Play';\n",
              "\n",
              "      const prevHighlight = document.querySelector('.lx-text-window .lx-current-highlight');\n",
              "      if (prevHighlight) prevHighlight.classList.remove('lx-current-highlight');\n",
              "      const currentSpan = document.querySelector('.lx-text-window span[data-idx=\"' + currentIndex + '\"]');\n",
              "      if (currentSpan) {\n",
              "        currentSpan.classList.add('lx-current-highlight');\n",
              "        currentSpan.scrollIntoView({block: 'center', behavior: 'smooth'});\n",
              "      }\n",
              "    }\n",
              "\n",
              "    function nextExtraction() {\n",
              "      currentIndex = (currentIndex + 1) % extractions.length;\n",
              "      updateDisplay();\n",
              "    }\n",
              "\n",
              "    function prevExtraction() {\n",
              "      currentIndex = (currentIndex - 1 + extractions.length) % extractions.length;\n",
              "      updateDisplay();\n",
              "    }\n",
              "\n",
              "    function jumpToExtraction(index) {\n",
              "      currentIndex = parseInt(index);\n",
              "      updateDisplay();\n",
              "    }\n",
              "\n",
              "    function playPause() {\n",
              "      if (isPlaying) {\n",
              "        clearInterval(animationInterval);\n",
              "        isPlaying = false;\n",
              "      } else {\n",
              "        animationInterval = setInterval(nextExtraction, animationSpeed * 1000);\n",
              "        isPlaying = true;\n",
              "      }\n",
              "      updateDisplay();\n",
              "    }\n",
              "\n",
              "    window.playPause = playPause;\n",
              "    window.nextExtraction = nextExtraction;\n",
              "    window.prevExtraction = prevExtraction;\n",
              "    window.jumpToExtraction = jumpToExtraction;\n",
              "\n",
              "    updateDisplay();\n",
              "  })();\n",
              "</script>"
            ]
          },
          "metadata": {}
        },
        {
          "output_type": "display_data",
          "data": {
            "text/plain": [
              "<IPython.core.display.HTML object>"
            ],
            "text/html": [
              "\n",
              "<style>\n",
              "    body {\n",
              "        background-color: #f0f0f0 !important;  /* Light background color */\n",
              "        color: black !important;                /* Black text color */\n",
              "    }\n",
              "    /* If texts are inside specific elements, you can add them here */\n",
              "    .lx-text, .lx-annotation, .annotated-text {\n",
              "        color: black !important;\n",
              "    }\n",
              "</style>\n"
            ]
          },
          "metadata": {}
        }
      ]
    }
  ]
}